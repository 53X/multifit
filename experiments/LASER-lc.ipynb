{
 "cells": [
  {
   "cell_type": "code",
   "execution_count": 4,
   "metadata": {
    "scrolled": true
   },
   "outputs": [
    {
     "name": "stdout",
     "output_type": "stream",
     "text": [
      "/home/pczapla/workspace/ulmfit-multilingual/experiments\r\n"
     ]
    }
   ],
   "source": [
    "!pwd"
   ]
  },
  {
   "cell_type": "code",
   "execution_count": 5,
   "metadata": {},
   "outputs": [],
   "source": [
    "from fastai.text import *"
   ]
  },
  {
   "cell_type": "code",
   "execution_count": 6,
   "metadata": {},
   "outputs": [],
   "source": [
    "# unzip task6_test.zip\n",
    "# unzip task_6-1.zip -d Task6/task\\ 01\n",
    "# unzip task_6-2.zip -d Task6/task\\ 02\n",
    "# mv Task6/task\\ 01 task-1\n",
    "# mv Task6/task\\ 02 task-2\n",
    "# rmdir Task6"
   ]
  },
  {
   "cell_type": "code",
   "execution_count": 7,
   "metadata": {},
   "outputs": [
    {
     "data": {
      "text/plain": [
       "[PosixPath('../data/poleval19/task-1/test_set_clean_only_text.txt'),\n",
       " PosixPath('../data/poleval19/task-1/training_set_clean_only_text.tmp.tok'),\n",
       " PosixPath('../data/poleval19/task-1/training_set_clean_only_text.txt'),\n",
       " PosixPath('../data/poleval19/task-1/test_set_clean_only_text.tmp.bpe'),\n",
       " PosixPath('../data/poleval19/task-1/test_set_clean_only_text.tmp.enc'),\n",
       " PosixPath('../data/poleval19/task-1/training_set_clean_only_tags.txt'),\n",
       " PosixPath('../data/poleval19/task-1/models'),\n",
       " PosixPath('../data/poleval19/task-1/evaulate1.pl'),\n",
       " PosixPath('../data/poleval19/task-1/test_set_clean_only_text.tmp.tok'),\n",
       " PosixPath('../data/poleval19/task-1/test_set_clean_only_tags.txt'),\n",
       " PosixPath('../data/poleval19/task-1/training_set_clean_only_text.tmp.enc'),\n",
       " PosixPath('../data/poleval19/task-1/training_set_clean_only_text.tmp.bpe')]"
      ]
     },
     "execution_count": 7,
     "metadata": {},
     "output_type": "execute_result"
    }
   ],
   "source": [
    "dataset=Path('../data')/'poleval19'/'task-1'\n",
    "dataset.ls()"
   ]
  },
  {
   "cell_type": "code",
   "execution_count": 8,
   "metadata": {},
   "outputs": [],
   "source": [
    "LASER = os.environ.get('LASER', \"/home/pczapla/workspace/_oss/LASER\")\n",
    "os.environ['LASER'] = LASER\n",
    "def cond_add_pypath(*paths):\n",
    "    for path in paths:\n",
    "        if path not in sys.path:\n",
    "            sys.path.append(path)\n",
    "cond_add_pypath(LASER + '/source',LASER + '/source/tools')\n",
    "\n",
    "from embed import SentenceEncoder, EncodeLoad, EncodeFile\n",
    "from text_processing import Token, BPEfastApply, SplitLines, JoinEmbed"
   ]
  },
  {
   "cell_type": "code",
   "execution_count": 265,
   "metadata": {},
   "outputs": [],
   "source": [
    "from subprocess import run, check_output, DEVNULL\n",
    "def tokenize(inp_fname, out_fname, lang='en',\n",
    "          lower_case=True, romanize=False, descape=False,\n",
    "          verbose=False, over_write=False, gzip=False):\n",
    "    FASTBPE = LASER + '/tools-external/fastBPE/fast'\n",
    "    MOSES_BDIR = LASER + '/tools-external/moses-tokenizer/tokenizer/'\n",
    "    MOSES_TOKENIZER = MOSES_BDIR + 'tokenizer.perl -q -no-escape -threads 20 -l '\n",
    "    MOSES_LC = MOSES_BDIR + 'lowercase.perl'\n",
    "    NORM_PUNC = MOSES_BDIR + 'normalize-punctuation.perl -l '\n",
    "    DESCAPE = MOSES_BDIR + 'deescape-special-chars.perl'\n",
    "    REM_NON_PRINT_CHAR = MOSES_BDIR + 'remove-non-printing-char.perl'\n",
    "\n",
    "    # Romanization (Greek only)\n",
    "    ROMAN_LC = 'python3 ' + LASER + '/source/lib/romanize_lc.py -l '\n",
    "\n",
    "    # Mecab tokenizer for Japanese\n",
    "    MECAB = LASER + '/tools-external/mecab'\n",
    "    assert lower_case, 'lower case is needed by all the models'\n",
    "    if not out_fname.exists():\n",
    "        cat = 'zcat ' if gzip else 'cat '\n",
    "        roman = lang if romanize else 'none'\n",
    "        # handle some iso3 langauge codes\n",
    "        if lang in ('cmn', 'wuu', 'yue'):\n",
    "            lang = 'zh'\n",
    "        if lang in ('jpn'):\n",
    "            lang = 'ja'\n",
    "        if verbose:\n",
    "            print(' - Tokenizer: {} in language {} {} {}'\n",
    "                  .format(os.path.basename(inp_fname), lang,\n",
    "                          '(gzip)' if gzip else '',\n",
    "                          '(de-escaped)' if descape else '',\n",
    "                          '(romanized)' if romanize else ''))\n",
    "        cmd = (cat + str(inp_fname)\n",
    "            + '|' + REM_NON_PRINT_CHAR\n",
    "            + '| sed \"s/\\(@anonymized_account *\\)/account /gi\"'\n",
    "#            + '| iconv -f UTF-8 -t ASCII//TRANSLIT '\n",
    "            + '|' + NORM_PUNC + lang\n",
    "            + ('|' + DESCAPE if descape else '')\n",
    "            + '|' + MOSES_TOKENIZER + lang\n",
    "            + ('| python3 -m jieba -d ' if lang == 'zh' else '')\n",
    "            + ('|' + MECAB + '/bin/mecab -O wakati -b 50000 ' if lang == 'ja' else '')\n",
    "            + ('|' + ROMAN_LC + roman if romanize else '')\n",
    "            + ('| tr \"[:upper:]\" \"[:lower:]\"' if lower_case else '')\n",
    "            + '>' + str(out_fname))\n",
    "        print (\"Tokenziation CMD: \", cmd)\n",
    "        run(cmd,\n",
    "            env=dict(os.environ, LD_LIBRARY_PATH=MECAB + '/lib'),\n",
    "            shell=True)\n",
    "    elif not over_write and verbose:\n",
    "        print(' - Tokenizer: {} exists already'\n",
    "              .format(os.path.basename(out_fname), lang))\n",
    "\n",
    "\n",
    "def split_lines(*args): return SplitLines(*list(map(str,args)))\n",
    "def bpe_fast_apply(*args, **kwargs): return BPEfastApply(*list(map(str,args)), **kwargs)\n",
    "def encode_file(enc, *args, **kwargs): return EncodeFile(enc, *list(map(str,args)), **kwargs)\n",
    "def join_embed(*args): return JoinEmbed(*list(map(str,args)))\n",
    "                      \n",
    "def process_file(inputfn, lang='pl'):\n",
    "    inputfn = Path(inputfn)\n",
    "    args = SimpleNamespace(\n",
    "        encoder=str(Path(LASER)/\"models\"/\"bilstm.93langs.2018-12-26.pt\"), \n",
    "        bpe_codes=str(Path(LASER)/\"models\"/\"93langs.fcodes\"),\n",
    "        lang=lang,\n",
    "        buffer_size=10000,\n",
    "        max_tokens=12000,\n",
    "        max_sentences=None,\n",
    "        cpu=False,\n",
    "        verbose=False,\n",
    "        stable=True)\n",
    "    enc = EncodeLoad(args)\n",
    "    def fn(suffix):\n",
    "        return inputfn.with_suffix(f'.tmp{suffix}')\n",
    "    tokenize(inputfn,\n",
    "          fn('.tok'),\n",
    "          lang=lang,\n",
    "          romanize=(True if lang == 'el' else False),\n",
    "          lower_case=True, gzip=False,\n",
    "          verbose=args.verbose, over_write=False)\n",
    "    bpe_fast_apply(fn('.tok'),\n",
    "             fn('.bpe'),\n",
    "             args.bpe_codes,\n",
    "             verbose=args.verbose, over_write=False)\n",
    "    split_lines(fn('.bpe'),\n",
    "               fn('.split'),\n",
    "               fn('.sid'))\n",
    "#     encode_file(enc,\n",
    "#                fn('.bpe'),\n",
    "#                fn('.enc'),\n",
    "#                verbose=args.verbose, over_write=False,\n",
    "#                buffer_size=args.buffer_size)\n",
    "    encode_file(enc,\n",
    "               fn('.split.bpe'),\n",
    "               fn('.split.enc'),\n",
    "               verbose=args.verbose, over_write=False,\n",
    "               buffer_size=args.buffer_size)\n",
    "\n",
    "    join_embed(fn('.split.enc'),\n",
    "              fn('.sid'),\n",
    "              fn('.enc'))\n",
    "    return fn('.enc')"
   ]
  },
  {
   "cell_type": "code",
   "execution_count": 266,
   "metadata": {
    "scrolled": true
   },
   "outputs": [
    {
     "name": "stdout",
     "output_type": "stream",
     "text": [
      " - loading encoder /home/pczapla/workspace/_oss/LASER/models/bilstm.93langs.2018-12-26.pt\n",
      "Tokenziation CMD:  cat ../data/poleval19/task-1/training_set_clean_only_text.txt|/home/pczapla/workspace/_oss/LASER/tools-external/moses-tokenizer/tokenizer/remove-non-printing-char.perl| sed \"s/\\(@anonymized_account *\\)/account /gi\"|/home/pczapla/workspace/_oss/LASER/tools-external/moses-tokenizer/tokenizer/normalize-punctuation.perl -l pl|/home/pczapla/workspace/_oss/LASER/tools-external/moses-tokenizer/tokenizer/tokenizer.perl -q -no-escape -threads 20 -l pl| tr \"[:upper:]\" \"[:lower:]\">../data/poleval19/task-1/training_set_clean_only_text.tmp.tok\n"
     ]
    }
   ],
   "source": [
    "!rm {dataset}/training_set_clean_only_text.tmp.*\n",
    "trn_fn = process_file(dataset / 'training_set_clean_only_text.txt')"
   ]
  },
  {
   "cell_type": "code",
   "execution_count": 267,
   "metadata": {
    "scrolled": true
   },
   "outputs": [
    {
     "name": "stdout",
     "output_type": "stream",
     "text": [
      "Dla mnie faworytem do tytułu będzie Cracovia. Zobaczymy, czy typ się sprawdzi.\r",
      "\r\n",
      "account account Brawo ty Daria kibic ma być na dobre i złe\r",
      "\r\n",
      "account account Super, polski premier składa kwiaty na grobach kolaborantów. Ale doczekaliśmy czasów.\r",
      "\r\n",
      "account account Musi. Innej drogi nie mamy.\r",
      "\r\n",
      "Odrzut natychmiastowy, kwaśna mina, mam problem\r",
      "\r\n",
      "Jaki on był fajny xdd pamiętam, że spóźniłam się na jego pierwsze zajęcia i to sporo i za karę kazał mi usiąść w pierwszej ławce XD\r",
      "\r\n",
      "account No nie ma u nas szczęścia 😉\r",
      "\r\n",
      "account Dawno kogoś tak wrednego nie widziałam xd\r",
      "\r\n",
      "account account Zaległości były, ale ważne czy były wezwania do zapłaty z których się klub nie wywiązał.\r",
      "\r\n",
      "account account account Gdzie jest account . Brudziński jesteś kłamcą i marnym kutasem account \r",
      "\r\n",
      "sed: couldn't write 130 items to stdout: Broken pipe\r\n",
      "cat: write error: Broken pipe\r\n"
     ]
    }
   ],
   "source": [
    "! cat ../data/poleval19/task-1/training_set_clean_only_text.txt| sed 's/\\(@anonymized_account *\\)/account /gi' |head"
   ]
  },
  {
   "cell_type": "code",
   "execution_count": 268,
   "metadata": {},
   "outputs": [
    {
     "name": "stdout",
     "output_type": "stream",
     "text": [
      "Dla mnie faworytem do tytulu bedzie Cracovia. Zobaczymy, czy typ sie sprawdzi.\r",
      "\r\n",
      "@anonymized_account @anonymized_account Brawo ty Daria kibic ma byc na dobre i zle\r",
      "\r\n",
      "@anonymized_account @anonymized_account Super, polski premier sklada kwiaty na grobach kolaborantow. Ale doczekalismy czasow.\r",
      "\r\n",
      "@anonymized_account @anonymized_account Musi. Innej drogi nie mamy.\r",
      "\r\n",
      "Odrzut natychmiastowy, kwasna mina, mam problem\r",
      "\r\n",
      "Jaki on byl fajny xdd pamietam, ze spoznilam sie na jego pierwsze zajecia i to sporo i za kare kazal mi usiasc w pierwszej lawce XD\r",
      "\r\n",
      "@anonymized_account No nie ma u nas szczescia ?\r",
      "\r\n",
      "@anonymized_account Dawno kogos tak wrednego nie widzialam xd\r",
      "\r\n",
      "@anonymized_account @anonymized_account Zaleglosci byly, ale wazne czy byly wezwania do zaplaty z ktorych sie klub nie wywiazal.\r",
      "\r\n",
      "@anonymized_account @anonymized_account @anonymized_account Gdzie jest @anonymized_account . Brudzinski jestes klamca i marnym kutasem @anonymized_account\r",
      "\r\n",
      "iconv: conversion stopped due to problem in writing the output\r\n"
     ]
    }
   ],
   "source": [
    "! cat ../data/poleval19/task-1/training_set_clean_only_text.txt| iconv -f UTF-8 -t ASCII//TRANSLIT |head"
   ]
  },
  {
   "cell_type": "code",
   "execution_count": 269,
   "metadata": {},
   "outputs": [
    {
     "name": "stdout",
     "output_type": "stream",
     "text": [
      "dla mnie faworytem do tytułu będzie cracovia . zobaczymy , czy typ się sprawdzi .\r\n",
      "account account brawo ty daria kibic ma być na dobre i złe\r\n",
      "account account super , polski premier składa kwiaty na grobach kolaborantów . ale doczekaliśmy czasów .\r\n",
      "account account musi . innej drogi nie mamy .\r\n",
      "odrzut natychmiastowy , kwaśna mina , mam problem\r\n",
      "jaki on był fajny xdd pamiętam , że spóźniłam się na jego pierwsze zajęcia i to sporo i za karę kazał mi usiąść w pierwszej ławce xd\r\n",
      "account no nie ma u nas szczęścia 😉\r\n",
      "account dawno kogoś tak wrednego nie widziałam xd\r\n",
      "account account zaległości były , ale ważne czy były wezwania do zapłaty z których się klub nie wywiązał .\r\n",
      "account account account gdzie jest account . brudziński jesteś kłamcą i marnym kutasem account\r\n"
     ]
    }
   ],
   "source": [
    "! head ../data/poleval19/task-1/training_set_clean_only_text.tmp.tok"
   ]
  },
  {
   "cell_type": "code",
   "execution_count": 270,
   "metadata": {},
   "outputs": [
    {
     "name": "stdout",
     "output_type": "stream",
     "text": [
      " - loading encoder /home/pczapla/workspace/_oss/LASER/models/bilstm.93langs.2018-12-26.pt\n",
      "Tokenziation CMD:  cat ../data/poleval19/task-1/test_set_clean_only_text.txt|/home/pczapla/workspace/_oss/LASER/tools-external/moses-tokenizer/tokenizer/remove-non-printing-char.perl| sed \"s/\\(@anonymized_account *\\)/account /gi\"|/home/pczapla/workspace/_oss/LASER/tools-external/moses-tokenizer/tokenizer/normalize-punctuation.perl -l pl|/home/pczapla/workspace/_oss/LASER/tools-external/moses-tokenizer/tokenizer/tokenizer.perl -q -no-escape -threads 20 -l pl| tr \"[:upper:]\" \"[:lower:]\">../data/poleval19/task-1/test_set_clean_only_text.tmp.tok\n"
     ]
    }
   ],
   "source": [
    "!rm {dataset}/test_set_clean_only_text.tmp.*\n",
    "tst_fn = process_file(dataset / 'test_set_clean_only_text.txt')"
   ]
  },
  {
   "cell_type": "code",
   "execution_count": 271,
   "metadata": {},
   "outputs": [
    {
     "data": {
      "text/plain": [
       "(10041, 1024)"
      ]
     },
     "execution_count": 271,
     "metadata": {},
     "output_type": "execute_result"
    }
   ],
   "source": [
    "dim=1024\n",
    "def read_enc(fn):\n",
    "    em = np.fromfile(str(fn),dtype=np.float32).reshape(-1, dim)\n",
    "    return em\n",
    "read_enc(trn_fn).shape"
   ]
  },
  {
   "cell_type": "code",
   "execution_count": 272,
   "metadata": {},
   "outputs": [
    {
     "data": {
      "text/plain": [
       "(1000,)"
      ]
     },
     "execution_count": 272,
     "metadata": {},
     "output_type": "execute_result"
    }
   ],
   "source": [
    "np.loadtxt(str(dataset/'test_set_clean_only_text.txt'), delimiter='\\n', comments=None, dtype=np.str).shape"
   ]
  },
  {
   "cell_type": "code",
   "execution_count": 273,
   "metadata": {},
   "outputs": [
    {
     "name": "stdout",
     "output_type": "stream",
     "text": [
      "   1000 ../data/poleval19/task-1/test_set_clean_only_text.tmp.bpe\r\n",
      "  13257 ../data/poleval19/task-1/test_set_clean_only_text.tmp.enc\r\n",
      "   1000 ../data/poleval19/task-1/test_set_clean_only_text.tmp.tok\r\n",
      "  15257 total\r\n"
     ]
    }
   ],
   "source": [
    "!wc -l {dataset}/'test_set_clean_only_text.tmp'.*"
   ]
  },
  {
   "cell_type": "code",
   "execution_count": 274,
   "metadata": {},
   "outputs": [
    {
     "name": "stdout",
     "output_type": "stream",
     "text": [
      "account account i dzięki temu mamy dziś ces@@ ar@@ zo@@ wą .. 😁 😁 😁 . gor@@ ą@@ co pozdra@@ wi@@ am ! 😁 😁 😁\r\n",
      "account account account w na@@ gro@@ de wy@@ pi@@ j mój sy@@ ro@@ p ! : d\r\n",
      "account droga p.@@ kam@@ il@@ ko ! le@@ czyć się . le@@ czyć pó@@ ki czas 😁 😁\r\n",
      "account pó@@ ł@@ gł@@ ó@@ we@@ k wi@@ eli@@ ń@@ ski , wy@@ myś@@ li@@ ł sobie pó@@ ł@@ autor@@ y@@ tary@@ z@@ m !\r\n",
      "rt account account pó@@ ł@@ gł@@ ó@@ we@@ k wi@@ eli@@ ń@@ ski , wy@@ myś@@ li@@ ł sobie pó@@ ł@@ autor@@ y@@ tary@@ z@@ m !\r\n",
      "account account na szczę@@ ście account i jego parti@@ a zni@@ kn@@ ą w@@ kró@@ t@@ ce \\ n@@ ze scen@@ y politycz@@ nej . bra@@ wo !\r\n",
      "fa@@ v albo rt to zrobi@@ ę wam in@@ dy ! ! ! nie wiem czy wszystkim , z@@ ale@@ ży ko@@ go będę ko@@ jar@@ zyć 🔥 🔥 🔥\r\n",
      "account account account to był kar@@ ny ? ! oczywi@@ sty kar@@ ny ? ! ha@@ ha od@@ sta@@ w to co bier@@ z@@ esz\r\n",
      "account account account masz teraz sz@@ anse na@@ pra@@ wić ten b@@ łą@@ d ! : )\r\n",
      "account account account w ta@@ kim razie zdro@@ wia ży@@ cz@@ ę !\r\n",
      "account nie kł@@ ó@@ ć się jak nie chcesz mieć póź@@ niej problem@@ ów ! : ) account account account\r\n",
      "account account cie@@ ka@@ we co po@@ wie o fau@@ lu tet@@ teha na ak@@ ha@@ ho@@ sh@@ im@@ .@@ bezpieczeńst@@ wo przede wszystkim !\r\n",
      "account account peł@@ na zgo@@ da . to skan@@ dal że zam@@ y@@ ka@@ ją przest@@ ęp@@ ców ! za po się przecież z nimi do@@ gad@@ y@@ wan@@ o !\r\n",
      "rt account account account peł@@ na zgo@@ da . to skan@@ dal że zam@@ y@@ ka@@ ją przest@@ ęp@@ ców ! za po się przecież z nimi do@@ gad@@ y@@ wan@@ o !\r\n",
      "account account o nie@@ ee@@ ee@@ ee@@ ee@@ ee ! nie przy@@ po@@ min@@ aj@@ cie account tego ! jutro nie będę mi@@ ała życia ! ; - )\r\n",
      "account ale czy będzie ś@@ pie@@ wał i ma@@ cha@@ ł gło@@ wą ? ! 😎\r\n",
      "# cl@@ j : gra@@ jąc w dzie@@ wię@@ ciu wis@@ ła od@@ nosi zwy@@ ci@@ ę@@ stwo w der@@ ba@@ ch z account str@@ zel@@ ając decy@@ du@@ ją@@ cą br@@ am@@ kę w 9@@ 5.@@ min ! h@@ tt@@ p : / / t.@@ co / d@@ 5@@ j@@ 3@@ q@@ y@@ on@@ s@@ q\r\n",
      "rt account # cl@@ j : gra@@ jąc w dzie@@ wię@@ ciu wis@@ ła od@@ nosi zwy@@ ci@@ ę@@ stwo w der@@ ba@@ ch z account str@@ zel@@ ając decy@@ du@@ ją@@ cą br@@ am@@ kę w 9@@ 5.@@ min ! ht ...\r\n",
      "account account account account jaki tam profesor ! ! ! to kan@@ gur którego . abor@@ y@@ gen@@ i zami@@ en@@ ili w człowieka .\r\n",
      "account a przy okaz@@ ji ; jaki sex@@ ow@@ ny , no@@ wy pro@@ fil ! ! 😁 😀 😁 😀 😀\r\n",
      "account account też czy@@ ta@@ łam , nau@@ ko@@ we u@@ sprawiedli@@ wi@@ enie dla le@@ żenia w łó@@ ż@@ ku przez pó@@ ł so@@ bo@@ ty , dziękuję account ! ! !\r\n",
      "account account account account aż za poważ@@ nie jak na oso@@ bę nie@@ poważ@@ ną ! : d\r\n",
      "account za to dokon@@ ano za@@ ku@@ pu black haw@@ ków dla poli@@ cji . mi@@ str@@ zo@@ stwo !\r\n",
      "account account account je@@ ba@@ ć sł@@ oni@@ c@@ ę@@ - mo@@ ty@@ li@@ cę ! ! ! ! 😁 😁 😁 . wro@@ c@@ ła@@ w nie daj się ! ! !\r\n",
      "my tu o polity@@ ce , a tu by@@ ki ry@@ czą ! zac@@ zy@@ naj@@ ą ry@@ ko@@ wis@@ ko ! 😁\r\n",
      "account hej koch@@ ana , wszyst@@ kiego naj@@ lesz@@ ego , spe@@ ł@@ nienia wszystkich mar@@ ze@@ ń , dużo z@@ dr@@ ów@@ ka , pieni@@ ę@@ dzy , mi@@ łości i szczę@@ ścia ! ! !\r\n",
      "jak widz@@ ę był@@ ego premi@@ era mar@@ cin@@ ki@@ e@@ wi@@ cza to zawsze myślę : q@@ r@@ wa ! jak ktoś taki mó@@ gł być premier@@ em . taki skoń@@ cz@@ ony b@@ ł@@ az@@ en .\r\n",
      "account account zgo@@ li@@ ć ? \\ \" sta@@ si@@ ek ! ty@@ ś się na amer@@ y@@ kana zrobi@@ ł ! ? w tym tele@@ wi@@ zor@@ ze tak się ciebie stało ? \\ \"\r\n",
      "account account to pie@@ pr@@ zenie komun@@ ał@@ ów pad że było war@@ to , bud@@ zi we mnie nies@@ mak . drugi tu@@ sk q@@ r@@ wa !\r\n",
      "account bardzo się ciesz@@ ę , że twitter może wy@@ wo@@ ły@@ wać też takie em@@ oc@@ je , a nie wie@@ czny g@@ nie@@ w 😉 pozdra@@ wi@@ am !\r\n",
      "account no to gł@@ ę@@ bo@@ kie uk@@ ł@@ ony przes@@ y@@ łam już dzisiaj . pan@@ cer@@ ne po@@ kol@@ enie ! ; - )\r\n",
      "account do@@ łą@@ cze się do ży@@ cze@@ ń : ) account wszyst@@ kiego najlep@@ szego ! : )\r\n",
      "account kop w dup@@ ę i do wat@@ y@@ kan@@ u się mą@@ dr@@ zyć za swoją kas@@ ę !\r\n",
      "rt account account kop w dup@@ ę i do wat@@ y@@ kan@@ u się mą@@ dr@@ zyć za swoją kas@@ ę !\r\n",
      "oni nie mają w@@ sty@@ du ? ! woj@@ cie@@ ch mann wykorzy@@ sta@@ ł po@@ gr@@ ze@@ b kor@@ y , żeby sk@@ ry@@ ty@@ kować pis . wi@@ deo \\ n \\ nh@@ tt@@ ps : / / t.@@ co / 6@@ r@@ 3@@ ph@@ x@@ eg@@ qu\r\n",
      "rt account oni nie mają w@@ sty@@ du ? ! woj@@ cie@@ ch mann wykorzy@@ sta@@ ł po@@ gr@@ ze@@ b kor@@ y , żeby sk@@ ry@@ ty@@ kować pis . wi@@ deo \\ n \\ nh@@ tt@@ ps : / / t.@@ co / 6@@ r@@ 3@@ ph@@ x@@ eg@@ qu\r\n",
      "account i tym spo@@ so@@ bem zwy@@ cięż@@ czyni@@ ą tur@@ nie@@ ju o pla@@ stu@@ sio@@ wego de@@ bila została ag@@ ni@@ esz@@ ka hol@@ land ! bra@@ wo ! ! ! 😁 😁 😁\r\n",
      "account a ktoś mówi@@ ł że jesteś m@@ ło@@ da ? ! 😂\r\n",
      "- ile tr@@ wa wymi@@ ana sz@@ ki@@ e@@ ł ? \\ n@@ - oko@@ ło godz@@ iny . \\ n@@ - Ś@@ wi@@ et@@ nie ! \\ n@@ - jaka wa@@ da ? \\ n@@ - min@@ us 6 . \\ n@@ - u@@ u . do dwóch tygod@@ ni . \\ n@@ dysk@@ ry@@ min@@ acja za wad@@ ę . 😂\r\n",
      "account też się dłu@@ go do tego za@@ bier@@ ałam , ale po@@ stanowi@@ łam no@@ w@@ emu t@@ łu@@ ma@@ cz@@ owi dać sz@@ ans@@ ę - od@@ waż@@ ny go@@ ść ! 😊\r\n",
      "account wiem pami@@ et@@ am ! ! ! gratu@@ lu@@ je ! jestem z ciebie dum@@ na ! ja zda@@ łam w cz@@ war@@ tek za trze@@ cim\r\n",
      "account ale masz zd@@ ję@@ cie pro@@ filo@@ we ! jak l@@ ale@@ cz@@ ka z por@@ cel@@ any !\r\n",
      "account oj gł@@ upo@@ lek ! i to jaki jeszcze 😁 😁 😁\r\n",
      "na tar@@ ga@@ ch ś@@ lu@@ b@@ nych w moim mie@@ ście będzie iza jan@@ ach@@ ow@@ ska ! ! ! !\r\n",
      "kon@@ cer@@ t ye@@ ar@@ s@@ ów już za 90 dni ! ! ! jak to szybko le@@ ci ! nie mogę się do@@ cze@@ ka@@ ć@@ . account widzi@@ my się nied@@ łu@@ go 😌\r\n",
      "rt account kon@@ cer@@ t ye@@ ar@@ s@@ ów już za 90 dni ! ! ! jak to szybko le@@ ci ! nie mogę się do@@ cze@@ ka@@ ć@@ . account widzi@@ my się nied@@ łu@@ go 😌\r\n",
      "account tym to ją wz@@ ru@@ szy@@ łeś ! ; -@@ d\r\n",
      "account account no o dobrze ! prec@@ z z dy@@ kt@@ atur@@ ą kobiet ! ! ! ! 😁 😁 😁 😁\r\n",
      "daj@@ cie fa@@ v a ja wam jutro zrobi@@ ę gad@@ an@@ ego in@@ da pier@@ wsz@@ ego w ży@@ ciu !\r\n",
      "account jest tu jaki@@ ś c@@ wan@@ i@@ ak ? jak ktoś mnie po@@ kona w fi@@ fe@@ 17 na ps@@ 4 to w@@ pł@@ ac@@ am 10@@ 9,@@ 0@@ 6 z@@ ł ! me@@ cze w week@@ end # wis@@ lat@@ on@@ as@@ za@@ przysz@@ los@@ c\r\n",
      "account account jak to powiedział kla@@ sy@@ k : cham@@ st@@ wu należy przeciw@@ sta@@ wi@@ ać się sił@@ om i god@@ no@@ sci@@ om oso@@ bi@@ st@@ om ! 😁 😁 😁 😁 . tak trzyma@@ ć ! 😁 😁\r\n",
      "account no to się chyba zabi@@ or@@ ę za niego ! dzięki\r\n",
      "account jak to nie został za@@ pro@@ sz@@ ony ? ? ? dom@@ ek ? ? ? to dla tego kur@@ wa przy@@ je@@ cha@@ ł do Ł@@ od@@ zi !\r\n",
      "account sz@@ an@@ ow@@ na pani reda@@ ktor ! ser@@ de@@ cznie dziękuję za tę promo@@ cję waż@@ nych dla mnie warto@@ ści bu@@ du@@ jac@@ ych rodz@@ inę . pozdra@@ wi@@ am ! : - )\r\n",
      "rt account account sz@@ an@@ ow@@ na pani reda@@ ktor ! ser@@ de@@ cznie dziękuję za tę promo@@ cję waż@@ nych dla mnie warto@@ ści bu@@ du@@ jac@@ ych rodz@@ inę . po ...\r\n",
      "account to oczywi@@ ste by@@ ły@@ ście dziś za@@ je@@ biste ! no może o@@ pró@@ cz ciebie ha@@ ha : ) # jo@@ ke\r\n"
     ]
    }
   ],
   "source": [
    "!grep \"!\" ../data/poleval19/task-1/test_set_clean_only_text.tmp.bpe"
   ]
  },
  {
   "cell_type": "code",
   "execution_count": 275,
   "metadata": {},
   "outputs": [],
   "source": [
    "tst_df = pd.DataFrame({\n",
    "    'y':np.loadtxt(str(dataset/'test_set_clean_only_tags.txt'),delimiter='\\n', comments=None, dtype=np.int),\n",
    "    'em':list(read_enc(tst_fn)), \n",
    "    'txt':np.loadtxt(str(dataset/'test_set_clean_only_text.tmp.bpe'), delimiter='\\n', comments=None, dtype=np.str),\n",
    "})\n",
    "\n",
    "trn_df = pd.DataFrame({\n",
    "    'y':np.loadtxt(str(dataset/'training_set_clean_only_tags.txt'),delimiter='\\n', comments=None, dtype=np.int),\n",
    "    'em':list(read_enc(trn_fn)), \n",
    "    'txt':np.loadtxt(str(dataset/'training_set_clean_only_text.tmp.bpe'), delimiter='\\n', comments=None, dtype=np.str),\n",
    "})\n",
    "\n",
    "\n"
   ]
  },
  {
   "cell_type": "code",
   "execution_count": 276,
   "metadata": {},
   "outputs": [
    {
     "data": {
      "text/html": [
       "<div>\n",
       "<style scoped>\n",
       "    .dataframe tbody tr th:only-of-type {\n",
       "        vertical-align: middle;\n",
       "    }\n",
       "\n",
       "    .dataframe tbody tr th {\n",
       "        vertical-align: top;\n",
       "    }\n",
       "\n",
       "    .dataframe thead th {\n",
       "        text-align: right;\n",
       "    }\n",
       "</style>\n",
       "<table border=\"1\" class=\"dataframe\">\n",
       "  <thead>\n",
       "    <tr style=\"text-align: right;\">\n",
       "      <th></th>\n",
       "      <th>y</th>\n",
       "      <th>em</th>\n",
       "      <th>txt</th>\n",
       "    </tr>\n",
       "  </thead>\n",
       "  <tbody>\n",
       "    <tr>\n",
       "      <th>0</th>\n",
       "      <td>0</td>\n",
       "      <td>[0.0020520384, 0.005157103, 0.012943947, 0.024...</td>\n",
       "      <td>dla mnie fa@@ wor@@ y@@ tem do ty@@ tu@@ łu bę...</td>\n",
       "    </tr>\n",
       "    <tr>\n",
       "      <th>1</th>\n",
       "      <td>0</td>\n",
       "      <td>[0.0037102806, -2.0261248e-05, 7.142721e-05, 0...</td>\n",
       "      <td>account account bra@@ wo ty dar@@ ia ki@@ bi@@...</td>\n",
       "    </tr>\n",
       "    <tr>\n",
       "      <th>2</th>\n",
       "      <td>0</td>\n",
       "      <td>[0.011618567, 0.0027558685, 0.00044608297, 0.0...</td>\n",
       "      <td>account account super , pol@@ ski premier sk@@...</td>\n",
       "    </tr>\n",
       "    <tr>\n",
       "      <th>3</th>\n",
       "      <td>0</td>\n",
       "      <td>[0.034281317, -9.7129705e-05, 0.0016056199, 0....</td>\n",
       "      <td>account account musi . in@@ nej dro@@ gi nie m...</td>\n",
       "    </tr>\n",
       "    <tr>\n",
       "      <th>4</th>\n",
       "      <td>0</td>\n",
       "      <td>[0.007905566, 0.0017290562, -0.0015668176, 0.0...</td>\n",
       "      <td>odr@@ zut nat@@ ych@@ mi@@ a@@ sto@@ wy , kwa@...</td>\n",
       "    </tr>\n",
       "  </tbody>\n",
       "</table>\n",
       "</div>"
      ],
      "text/plain": [
       "   y                                                 em  \\\n",
       "0  0  [0.0020520384, 0.005157103, 0.012943947, 0.024...   \n",
       "1  0  [0.0037102806, -2.0261248e-05, 7.142721e-05, 0...   \n",
       "2  0  [0.011618567, 0.0027558685, 0.00044608297, 0.0...   \n",
       "3  0  [0.034281317, -9.7129705e-05, 0.0016056199, 0....   \n",
       "4  0  [0.007905566, 0.0017290562, -0.0015668176, 0.0...   \n",
       "\n",
       "                                                 txt  \n",
       "0  dla mnie fa@@ wor@@ y@@ tem do ty@@ tu@@ łu bę...  \n",
       "1  account account bra@@ wo ty dar@@ ia ki@@ bi@@...  \n",
       "2  account account super , pol@@ ski premier sk@@...  \n",
       "3  account account musi . in@@ nej dro@@ gi nie m...  \n",
       "4  odr@@ zut nat@@ ych@@ mi@@ a@@ sto@@ wy , kwa@...  "
      ]
     },
     "execution_count": 276,
     "metadata": {},
     "output_type": "execute_result"
    }
   ],
   "source": [
    "trn_df.head()"
   ]
  },
  {
   "cell_type": "code",
   "execution_count": 277,
   "metadata": {},
   "outputs": [
    {
     "data": {
      "text/plain": [
       "array([ 0.015996,  0.002804, -0.004015,  0.018448, ...,  0.022837,  0.005017,  0.011453,  0.016846], dtype=float32)"
      ]
     },
     "execution_count": 277,
     "metadata": {},
     "output_type": "execute_result"
    }
   ],
   "source": [
    "tst_df['em'][0]"
   ]
  },
  {
   "cell_type": "code",
   "execution_count": 278,
   "metadata": {},
   "outputs": [],
   "source": [
    "class EmbeddingText(ItemBase):\n",
    "    \"Basic item for <code>text</code> data in numericalized `ids`.\"\n",
    "    def __init__(self, emb, text): self.data,self.text = np.array(emb, dtype=np.float32),text\n",
    "    def __str__(self):  return str(self.text)"
   ]
  },
  {
   "cell_type": "code",
   "execution_count": 279,
   "metadata": {},
   "outputs": [],
   "source": [
    "class EmbeddingList(ItemList):\n",
    "    \"Basic `ItemList` for embeding of text data.\"\n",
    "    _bunch = DataBunch # TextDataBunch converts input to LongTensor !\n",
    "    _processor = []\n",
    "\n",
    "    def __init__(self, items:Iterator, **kwargs):\n",
    "        super().__init__(items, **kwargs)\n",
    "\n",
    "    def find_text_for_em(self, em):\n",
    "        # todo find a way to reverse embedding\n",
    "        return self.inner_df['txt'][1]\n",
    "        \n",
    "    def get(self, i):\n",
    "        o = super().get(i)\n",
    "        return EmbeddingText(o, self.inner_df['txt'][i])\n",
    "\n",
    "    def reconstruct(self, t:Tensor):\n",
    "        return EmbeddingText(t, self.find_text_for_em(t))\n",
    "\n",
    "    def show_xys(self, xs, ys, max_len:int=70)->None:\n",
    "        \"Show the `xs` (inputs) and `ys` (targets). `max_len` is the maximum number of tokens displayed.\"\n",
    "        from IPython.display import display, HTML\n",
    "        names = ['text','target']\n",
    "        items = []\n",
    "        for i, (x,y) in enumerate(zip(xs,ys)):\n",
    "            txt_x = ' '.join(x.text.split(' ')[:max_len]) if max_len is not None else x.text\n",
    "            items.append([txt_x, y])\n",
    "        items = np.array(items)\n",
    "        df = pd.DataFrame({n:items[:,i] for i,n in enumerate(names)}, columns=names)\n",
    "        with pd.option_context('display.max_colwidth', -1):\n",
    "            display(HTML(df.to_html(index=False)))\n",
    "\n",
    "    def show_xyzs(self, xs, ys, zs, max_len:int=70):\n",
    "        \"Show `xs` (inputs), `ys` (targets) and `zs` (predictions). `max_len` is the maximum number of tokens displayed.\"\n",
    "        from IPython.display import display, HTML\n",
    "        items,names = [],['text','target','prediction']\n",
    "        for i, (x,y,z) in enumerate(zip(xs,ys,zs)):\n",
    "            txt_x = ' '.join(x.text.split(' ')[:max_len]) if max_len is not None else x.text\n",
    "            items.append([txt_x, y, z])\n",
    "        items = np.array(items)\n",
    "        df = pd.DataFrame({n:items[:,i] for i,n in enumerate(names)}, columns=names)\n",
    "        with pd.option_context('display.max_colwidth', -1):\n",
    "            display(HTML(df.to_html(index=False)))"
   ]
  },
  {
   "cell_type": "code",
   "execution_count": 280,
   "metadata": {},
   "outputs": [],
   "source": [
    "path=dataset/\"models\"\n",
    "src = ItemLists(path, \n",
    "                EmbeddingList.from_df(trn_df, cols=1, path=path),\n",
    "                EmbeddingList.from_df(tst_df, cols=1, path=path))\n",
    "classes=np.unique(trn_df['y'])\n",
    "src.label_from_lists(trn_df['y'], tst_df['y'], classes=classes, processor=[])\n",
    "data = src.databunch(bs=200)"
   ]
  },
  {
   "cell_type": "code",
   "execution_count": 281,
   "metadata": {},
   "outputs": [
    {
     "data": {
      "text/html": [
       "<table border=\"1\" class=\"dataframe\">\n",
       "  <thead>\n",
       "    <tr style=\"text-align: right;\">\n",
       "      <th>text</th>\n",
       "      <th>target</th>\n",
       "    </tr>\n",
       "  </thead>\n",
       "  <tbody>\n",
       "    <tr>\n",
       "      <td>account account bra@@ wo ty dar@@ ia ki@@ bi@@ c ma być na dobre i zł@@ e</td>\n",
       "      <td>0</td>\n",
       "    </tr>\n",
       "    <tr>\n",
       "      <td>account account bra@@ wo ty dar@@ ia ki@@ bi@@ c ma być na dobre i zł@@ e</td>\n",
       "      <td>0</td>\n",
       "    </tr>\n",
       "    <tr>\n",
       "      <td>account account bra@@ wo ty dar@@ ia ki@@ bi@@ c ma być na dobre i zł@@ e</td>\n",
       "      <td>0</td>\n",
       "    </tr>\n",
       "    <tr>\n",
       "      <td>account account bra@@ wo ty dar@@ ia ki@@ bi@@ c ma być na dobre i zł@@ e</td>\n",
       "      <td>0</td>\n",
       "    </tr>\n",
       "    <tr>\n",
       "      <td>account account bra@@ wo ty dar@@ ia ki@@ bi@@ c ma być na dobre i zł@@ e</td>\n",
       "      <td>0</td>\n",
       "    </tr>\n",
       "  </tbody>\n",
       "</table>"
      ],
      "text/plain": [
       "<IPython.core.display.HTML object>"
      ]
     },
     "metadata": {},
     "output_type": "display_data"
    }
   ],
   "source": [
    "data.show_batch()"
   ]
  },
  {
   "cell_type": "code",
   "execution_count": 282,
   "metadata": {},
   "outputs": [],
   "source": [
    "class LaserSentCLS(nn.Module):\n",
    "    def __init__(self, idim=1024, odim=2, nhid=None,\n",
    "                 dropout=0.0, activation='TANH'):\n",
    "        super().__init__()\n",
    "        modules = []\n",
    "\n",
    "        modules = []\n",
    "        print(' - mlp {:d}'.format(idim), end='')\n",
    "        if len(nhid) > 0:\n",
    "            if dropout > 0:\n",
    "                modules.append(nn.Dropout(p=dropout))\n",
    "            nprev = idim\n",
    "            for nh in nhid:\n",
    "                if nh > 0:\n",
    "                    modules.append(nn.Linear(nprev, nh))\n",
    "                    nprev = nh\n",
    "                    if activation == 'TANH':\n",
    "                        modules.append(nn.Tanh())\n",
    "                        print('-{:d}t'.format(nh), end='')\n",
    "                    elif activation == 'RELU':\n",
    "                        modules.append(nn.ReLU())\n",
    "                        print('-{:d}r'.format(nh), end='')\n",
    "                    else:\n",
    "                       raise Exception('Unrecognized activation {activation}')\n",
    "                    if dropout > 0:\n",
    "                        modules.append(nn.Dropout(p=dropout))\n",
    "            modules.append(nn.Linear(nprev, odim))\n",
    "            print('-{:d}, dropout={:.1f}'.format(odim, dropout))\n",
    "        else:\n",
    "            modules.append(nn.Linear(idim, odim))\n",
    "            print(' - mlp %d-%d'.format(idim, odim))\n",
    "        self.mlp = nn.Sequential(*modules)\n",
    "    def forward(self, x):\n",
    "        return self.mlp(x)"
   ]
  },
  {
   "cell_type": "code",
   "execution_count": 283,
   "metadata": {},
   "outputs": [
    {
     "data": {
      "text/plain": [
       "<torch.utils.data.sampler.RandomSampler at 0x7f4524e1d7f0>"
      ]
     },
     "execution_count": 283,
     "metadata": {},
     "output_type": "execute_result"
    }
   ],
   "source": [
    "data.train_dl.dl.batch_sampler.sampler"
   ]
  },
  {
   "cell_type": "code",
   "execution_count": 284,
   "metadata": {},
   "outputs": [
    {
     "data": {
      "text/plain": [
       "200"
      ]
     },
     "execution_count": 284,
     "metadata": {},
     "output_type": "execute_result"
    }
   ],
   "source": [
    "data.train_dl.dl.batch_size"
   ]
  },
  {
   "cell_type": "code",
   "execution_count": 285,
   "metadata": {},
   "outputs": [
    {
     "name": "stdout",
     "output_type": "stream",
     "text": [
      " - mlp 1024-10t-8t-2, dropout=0.0\n"
     ]
    }
   ],
   "source": [
    "m=LaserSentCLS(nhid=[10, 8],dropout=0)\n",
    "learn = Learner(data, m, metrics=[accuracy, FBeta(beta=1, average='binary')])"
   ]
  },
  {
   "cell_type": "code",
   "execution_count": 286,
   "metadata": {},
   "outputs": [
    {
     "data": {
      "text/html": [],
      "text/plain": [
       "<IPython.core.display.HTML object>"
      ]
     },
     "metadata": {},
     "output_type": "display_data"
    },
    {
     "name": "stdout",
     "output_type": "stream",
     "text": [
      "LR Finder is complete, type {learner_name}.recorder.plot() to see the graph.\n"
     ]
    },
    {
     "data": {
      "image/png": "[encoded data removed]",
      "text/plain": [
       "<Figure size 432x288 with 1 Axes>"
      ]
     },
     "metadata": {
      "needs_background": "light"
     },
     "output_type": "display_data"
    }
   ],
   "source": [
    "learn.lr_find();learn.recorder.plot()"
   ]
  },
  {
   "cell_type": "code",
   "execution_count": 287,
   "metadata": {
    "scrolled": false
   },
   "outputs": [
    {
     "data": {
      "text/html": [
       "Total time: 00:18 <p><table border=\"1\" class=\"dataframe\">\n",
       "  <thead>\n",
       "    <tr style=\"text-align: left;\">\n",
       "      <th>epoch</th>\n",
       "      <th>train_loss</th>\n",
       "      <th>valid_loss</th>\n",
       "      <th>accuracy</th>\n",
       "      <th>f_beta</th>\n",
       "      <th>time</th>\n",
       "    </tr>\n",
       "  </thead>\n",
       "  <tbody>\n",
       "    <tr>\n",
       "      <td>0</td>\n",
       "      <td>0.333184</td>\n",
       "      <td>0.430970</td>\n",
       "      <td>0.866000</td>\n",
       "      <td>0.000000</td>\n",
       "      <td>00:00</td>\n",
       "    </tr>\n",
       "    <tr>\n",
       "      <td>1</td>\n",
       "      <td>0.305062</td>\n",
       "      <td>0.394566</td>\n",
       "      <td>0.866000</td>\n",
       "      <td>0.000000</td>\n",
       "      <td>00:00</td>\n",
       "    </tr>\n",
       "    <tr>\n",
       "      <td>2</td>\n",
       "      <td>0.297022</td>\n",
       "      <td>0.397638</td>\n",
       "      <td>0.866000</td>\n",
       "      <td>0.000000</td>\n",
       "      <td>00:00</td>\n",
       "    </tr>\n",
       "    <tr>\n",
       "      <td>3</td>\n",
       "      <td>0.294646</td>\n",
       "      <td>0.443322</td>\n",
       "      <td>0.866000</td>\n",
       "      <td>0.000000</td>\n",
       "      <td>00:00</td>\n",
       "    </tr>\n",
       "    <tr>\n",
       "      <td>4</td>\n",
       "      <td>0.289282</td>\n",
       "      <td>0.619350</td>\n",
       "      <td>0.866000</td>\n",
       "      <td>0.000000</td>\n",
       "      <td>00:00</td>\n",
       "    </tr>\n",
       "    <tr>\n",
       "      <td>5</td>\n",
       "      <td>0.272823</td>\n",
       "      <td>0.386414</td>\n",
       "      <td>0.866000</td>\n",
       "      <td>0.000000</td>\n",
       "      <td>00:00</td>\n",
       "    </tr>\n",
       "    <tr>\n",
       "      <td>6</td>\n",
       "      <td>0.243332</td>\n",
       "      <td>0.302898</td>\n",
       "      <td>0.892000</td>\n",
       "      <td>0.504587</td>\n",
       "      <td>00:00</td>\n",
       "    </tr>\n",
       "    <tr>\n",
       "      <td>7</td>\n",
       "      <td>0.227738</td>\n",
       "      <td>0.289813</td>\n",
       "      <td>0.880000</td>\n",
       "      <td>0.545455</td>\n",
       "      <td>00:00</td>\n",
       "    </tr>\n",
       "    <tr>\n",
       "      <td>8</td>\n",
       "      <td>0.209937</td>\n",
       "      <td>0.298856</td>\n",
       "      <td>0.885000</td>\n",
       "      <td>0.488889</td>\n",
       "      <td>00:00</td>\n",
       "    </tr>\n",
       "    <tr>\n",
       "      <td>9</td>\n",
       "      <td>0.200507</td>\n",
       "      <td>0.310476</td>\n",
       "      <td>0.886000</td>\n",
       "      <td>0.525000</td>\n",
       "      <td>00:00</td>\n",
       "    </tr>\n",
       "    <tr>\n",
       "      <td>10</td>\n",
       "      <td>0.191473</td>\n",
       "      <td>0.335660</td>\n",
       "      <td>0.883000</td>\n",
       "      <td>0.387435</td>\n",
       "      <td>00:00</td>\n",
       "    </tr>\n",
       "    <tr>\n",
       "      <td>11</td>\n",
       "      <td>0.195121</td>\n",
       "      <td>0.371059</td>\n",
       "      <td>0.866000</td>\n",
       "      <td>0.000000</td>\n",
       "      <td>00:00</td>\n",
       "    </tr>\n",
       "    <tr>\n",
       "      <td>12</td>\n",
       "      <td>0.186411</td>\n",
       "      <td>0.351204</td>\n",
       "      <td>0.866000</td>\n",
       "      <td>0.000000</td>\n",
       "      <td>00:00</td>\n",
       "    </tr>\n",
       "    <tr>\n",
       "      <td>13</td>\n",
       "      <td>0.174682</td>\n",
       "      <td>0.363080</td>\n",
       "      <td>0.881000</td>\n",
       "      <td>0.389744</td>\n",
       "      <td>00:00</td>\n",
       "    </tr>\n",
       "    <tr>\n",
       "      <td>14</td>\n",
       "      <td>0.168383</td>\n",
       "      <td>0.370905</td>\n",
       "      <td>0.879000</td>\n",
       "      <td>0.352941</td>\n",
       "      <td>00:00</td>\n",
       "    </tr>\n",
       "    <tr>\n",
       "      <td>15</td>\n",
       "      <td>0.164146</td>\n",
       "      <td>0.355584</td>\n",
       "      <td>0.872000</td>\n",
       "      <td>0.448276</td>\n",
       "      <td>00:00</td>\n",
       "    </tr>\n",
       "    <tr>\n",
       "      <td>16</td>\n",
       "      <td>0.158778</td>\n",
       "      <td>0.373633</td>\n",
       "      <td>0.876000</td>\n",
       "      <td>0.386139</td>\n",
       "      <td>00:00</td>\n",
       "    </tr>\n",
       "    <tr>\n",
       "      <td>17</td>\n",
       "      <td>0.154538</td>\n",
       "      <td>0.369211</td>\n",
       "      <td>0.879000</td>\n",
       "      <td>0.452489</td>\n",
       "      <td>00:00</td>\n",
       "    </tr>\n",
       "    <tr>\n",
       "      <td>18</td>\n",
       "      <td>0.152277</td>\n",
       "      <td>0.370646</td>\n",
       "      <td>0.878000</td>\n",
       "      <td>0.450450</td>\n",
       "      <td>00:00</td>\n",
       "    </tr>\n",
       "    <tr>\n",
       "      <td>19</td>\n",
       "      <td>0.148663</td>\n",
       "      <td>0.367261</td>\n",
       "      <td>0.873000</td>\n",
       "      <td>0.450216</td>\n",
       "      <td>00:00</td>\n",
       "    </tr>\n",
       "  </tbody>\n",
       "</table>"
      ],
      "text/plain": [
       "<IPython.core.display.HTML object>"
      ]
     },
     "metadata": {},
     "output_type": "display_data"
    }
   ],
   "source": [
    "learn.fit_one_cycle(20, 1e-1)"
   ]
  },
  {
   "cell_type": "code",
   "execution_count": 288,
   "metadata": {},
   "outputs": [
    {
     "data": {
      "image/png": "[encoded data removed]",
      "text/plain": [
       "<Figure size 432x288 with 1 Axes>"
      ]
     },
     "metadata": {
      "needs_background": "light"
     },
     "output_type": "display_data"
    }
   ],
   "source": [
    "learn.recorder.plot_lr()"
   ]
  },
  {
   "cell_type": "code",
   "execution_count": null,
   "metadata": {},
   "outputs": [],
   "source": []
  },
  {
   "cell_type": "code",
   "execution_count": 289,
   "metadata": {},
   "outputs": [],
   "source": [
    "interp = ClassificationInterpretation.from_learner(learn)\n"
   ]
  },
  {
   "cell_type": "code",
   "execution_count": 290,
   "metadata": {},
   "outputs": [
    {
     "data": {
      "image/png": "[encoded data removed]",
      "text/plain": [
       "<Figure size 432x288 with 1 Axes>"
      ]
     },
     "metadata": {
      "needs_background": "light"
     },
     "output_type": "display_data"
    }
   ],
   "source": [
    "interp.plot_confusion_matrix()"
   ]
  },
  {
   "cell_type": "code",
   "execution_count": 291,
   "metadata": {},
   "outputs": [],
   "source": [
    "l, i = interp.top_losses()"
   ]
  },
  {
   "cell_type": "code",
   "execution_count": 292,
   "metadata": {
    "scrolled": false
   },
   "outputs": [
    {
     "data": {
      "text/plain": [
       "[(1, 0, 82), (0, 1, 45)]"
      ]
     },
     "execution_count": 292,
     "metadata": {},
     "output_type": "execute_result"
    }
   ],
   "source": [
    "interp.most_confused()"
   ]
  },
  {
   "cell_type": "code",
   "execution_count": 293,
   "metadata": {},
   "outputs": [
    {
     "name": "stdout",
     "output_type": "stream",
     "text": [
      "(EmbeddingText tym których nie było na me@@ cz@@ u ze względu na koniec zgo@@ dy mam kilka sł@@ ów do prze@@ kazan@@ ia@@ .@@ wy@@ pier@@ d@@ ala@@ ć do wro@@ c@@ ła@@ wia albo g@@ da@@ ń@@ ska, Category 1)\n",
      "(EmbeddingText account account ni@@ est@@ ety nie og@@ lą@@ da@@ łem . ale jedna rzecz w tym po@@ ście jest nie@@ prawdzi@@ wa . Ż@@ al@@ ek i wied@@ za to dwa wy@@ klu@@ cza@@ jące się by@@ ty, Category 1)\n",
      "(EmbeddingText account lis czy ty jesteś Ż@@ y@@ dem . ? ? ?, Category 1)\n",
      "(EmbeddingText account za sz@@ czy@@ t ? chyba za sz@@ czy@@ to@@ wanie ...., Category 1)\n",
      "(EmbeddingText account do@@ kład@@ nie , pis@@ dzi@@ el@@ stwo nie ma prawa roz@@ pier@@ d@@ ala@@ ć systemu , są@@ dow@@ nict@@ wa nie maj@@ ąc większo@@ ści, Category 1)\n",
      "(EmbeddingText account chciał@@ byś aby tak było mier@@ no@@ to : ), Category 1)\n",
      "(EmbeddingText account kama , słu@@ ch@@ ej no , gdzie masz bi@@ uro ? chciałbym coś mach@@ n@@ ąć spra@@ jem ., Category 1)\n",
      "(EmbeddingText rt account account chciał@@ byś aby tak było mier@@ no@@ to : ), Category 1)\n",
      "(EmbeddingText account pani się dobrze za@@ stanowi co robi@@ cie . też ma@@ cie bi@@ ura , sam@@ och@@ ody , dom@@ y , dzieci , w@@ nu@@ ki it@@ d . tak tylko przy@@ po@@ min@@ am ., Category 1)\n",
      "(EmbeddingText account powin@@ na@@ ś od@@ powiedzieć za dział@@ anie na szko@@ dę pol@@ ski i obywateli, Category 1)\n"
     ]
    }
   ],
   "source": [
    "for ix in range(0,10): print(data.valid_ds[i[ix]])"
   ]
  },
  {
   "cell_type": "code",
   "execution_count": 295,
   "metadata": {},
   "outputs": [
    {
     "name": "stdout",
     "output_type": "stream",
     "text": [
      "(EmbeddingText account wie@@ czna zdra@@ da , nie zdra@@ da , trzeba roz@@ mawi@@ ać , pier@@ dol@@ enie od rzeczy, Category 0)\n",
      "(EmbeddingText account account to pani kry@@ sia jest two@@ ją oj@@ czy@@ zn@@ ą ?, Category 0)\n",
      "(EmbeddingText account droga p.@@ kam@@ il@@ ko ! le@@ czyć się . le@@ czyć pó@@ ki czas 😁 😁, Category 0)\n",
      "(EmbeddingText account du@@ baj w@@ zor@@ em , czy@@ li jednak islam , sal@@ am al@@ ej@@ kum ci@@ em@@ ki@@ e@@ wi@@ cz, Category 0)\n",
      "(EmbeddingText account a ja za@@ łoż@@ ę fit@@ blo@@ ga 😂 😂 😂, Category 0)\n",
      "(EmbeddingText account to tak jak ja prze@@ widział@@ em , że cię nie w@@ pusz@@ cza do g@@ b, Category 0)\n",
      "(EmbeddingText prowad@@ zą@@ cy mówi ze nikt mu nie wy@@ s@@ ła@@ ł sz@@ ki@@ ców projekt@@ ów jak nie jak ja ci wy@@ sł@@ ałam im@@ be@@ cy@@ lu, Category 0)\n",
      "(EmbeddingText ra@@ fa@@ ł br@@ zo@@ zo@@ w@@ ski ma nar@@ ze@@ cz@@ on@@ ą ? mam na@@ dzie@@ je m , że na co@@ dzień jej aż tak nie fa@@ ł@@ sz@@ uje jak w tym kol@@ e fortun@@ y a jeśli tak to big ri@@ p girl, Category 0)\n",
      "(EmbeddingText account account to ta pani co ma roz@@ tro@@ jen@@ ie ja@@ ź@@ ni ?, Category 0)\n",
      "(EmbeddingText account account account prawda o kar@@ cze@@ w@@ skim to nie prawda o pol@@ s@@ ce . coś się panu po@@ je@@ ba@@ ło account ., Category 0)\n",
      "(EmbeddingText account zna@@ jąc ment@@ al@@ ność pis win@@ ny będzie ten kto wi@@ dzi nie ten kto czy@@ ni ., Category 0)\n",
      "(EmbeddingText account prz@@ esta@@ ń@@ cie kur@@ wa cały czas p@@ ła@@ kać, Category 0)\n",
      "(EmbeddingText account account ko@@ do@@ wa zar@@ aza nar@@ ód nasz dzi@@ eli , m@@ roz@@ ny de@@ sz@@ cz gro@@ zy po kar@@ ku prze@@ chodzi , \\ ndo@@ ść dy@@ kt@@ atu pej@@ sat@@ ej bru@@ k@@ sel@@ i, Category 0)\n",
      "(EmbeddingText rt account account ku@@ ter ry@@ bac@@ ki przy niej , to dou@@ glas na wod@@ zie ., Category 0)\n",
      "(EmbeddingText account i we@@ ź tu zosta@@ ń p@@ sem, Category 0)\n",
      "(EmbeddingText account ty naj@@ pier@@ w prze@@ czy@@ taj te swoje ksi@@ ąż@@ ki z foto@@ ta@@ pet@@ y a potem po@@ gad@@ amy ., Category 0)\n",
      "(EmbeddingText trzeba być patri@@ ot@@ ą swo@@ jego mi@@ asta , swo@@ jego region@@ u , swo@@ jej ziemi . pre@@ zes # pis j. # ka@@ czy@@ ń@@ ski w # zam@@ o@@ ść : # do@@ trzy@@ mu@@ jem@@ ys@@ ło@@ wa, Category 0)\n",
      "(EmbeddingText rt account trzeba być patri@@ ot@@ ą swo@@ jego mi@@ asta , swo@@ jego region@@ u , swo@@ jej ziemi . pre@@ zes # pis j. # ka@@ czy@@ ń@@ ski w # zam@@ o@@ ść : # do@@ trzy@@ mu@@ jem@@ ys@@ ło@@ wa, Category 0)\n",
      "(EmbeddingText account taki z niego patri@@ ota jak z ciebie dzi@@ enni@@ kar@@ z . nie po@@ gr@@ ąż@@ aj się ., Category 0)\n",
      "(EmbeddingText rt account account taki z niego patri@@ ota jak z ciebie dzi@@ enni@@ kar@@ z . nie po@@ gr@@ ąż@@ aj się ., Category 0)\n",
      "(EmbeddingText account account zanim się o@@ dez@@ wiesz to wy@@ trze@@ ź@@ wi@@ ej, Category 0)\n",
      "(EmbeddingText account bier@@ z tego account razem jeste@@ ście moc@@ ni, Category 0)\n",
      "(EmbeddingText account a br@@ am@@ kar@@ ze ? gli@@ k ? kry@@ cho@@ wi@@ ak ? ku@@ ba ? mili@@ k ? pis@@ z@@ cz@@ ek jak jest zdro@@ wy ?, Category 0)\n",
      "(EmbeddingText kur@@ wa wszyscy w domu ka@@ sz@@ l@@ ą, Category 0)\n",
      "(EmbeddingText account account account je@@ ba@@ ć sł@@ oni@@ c@@ ę@@ - mo@@ ty@@ li@@ cę ! ! ! ! 😁 😁 😁 . wro@@ c@@ ła@@ w nie daj się ! ! !, Category 0)\n",
      "(EmbeddingText account jeśli to jest sz@@ rot to jak naz@@ wać was@@ ze transfer@@ y ?, Category 0)\n",
      "(EmbeddingText no teraz kur@@ wa jak muszę wyj@@ ść to pada@@ ć zac@@ zy@@ na no ja pier@@ dole do dup@@ y z ta@@ kim ży@@ ciem, Category 0)\n",
      "(EmbeddingText account account chyba ty , ch@@ ł@@ op jak by@@ k, Category 0)\n",
      "(EmbeddingText account ale tu@@ sk nie jest świ@@ rem, Category 0)\n",
      "(EmbeddingText account account account account ki@@ bi@@ ce wier@@ zą w zwy@@ ci@@ ę@@ stwo swo@@ jej dru@@ ży@@ ny@@ .@@ ty to nazy@@ was@@ z do@@ pis@@ y@@ wan@@ iem p@@ kt ? ha@@ ha, Category 0)\n",
      "(EmbeddingText account account account historia lu@@ dz@@ ko@@ ści to historia gł@@ upo@@ ty # ja@@ j@@ co, Category 0)\n",
      "(EmbeddingText account ten to już zu@@ peł@@ nie od@@ wi@@ esi@@ ł mó@@ z@@ g na ko@@ ł@@ ek , chor@@ y mó@@ z@@ g, Category 0)\n",
      "(EmbeddingText account rzu@@ ć ż@@ on@@ ę , przej@@ dź na bud@@ dy@@ z@@ m , prze@@ prowad@@ ź sie z u@@ kochan@@ ą na bar@@ ba@@ dos , zac@@ zni@@ j s@@ sa@@ ć życie, Category 0)\n",
      "(EmbeddingText h@@ ali@@ c@@ ki : ga@@ w@@ ło@@ w@@ ski nie może się br@@ oni@@ ć bo sied@@ zi . a po wciąż za ba@@ ł@@ ag@@ an w w-@@ wie ob@@ cią@@ ż@@ a m@@ .@@ i. nie@@ ży@@ ją@@ cego l.@@ ka@@ czy@@ ń@@ skiego \\ n # wor@@ oni@@ cza@@ 17, Category 0)\n",
      "(EmbeddingText pis już się z@@ bliż@@ a już pu@@ ka do t@@ wych dr@@ z@@ wi@@ .@@ po@@ bieg@@ ni@@ j go przy@@ wit@@ ać z ra@@ do@@ ści ser@@ ce dr@@ ży . 😁 😁 😁, Category 0)\n",
      "(EmbeddingText account pola@@ cy rat@@ uj@@ my pol@@ sk@@ Ę od zlo@@ dzie@@ ji po i lisa wol@@ j@@ s@@ do@@ j@@ cza, Category 0)\n",
      "(EmbeddingText rt account account pola@@ cy rat@@ uj@@ my pol@@ sk@@ Ę od zlo@@ dzie@@ ji po i lisa wol@@ j@@ s@@ do@@ j@@ cza, Category 0)\n",
      "(EmbeddingText account panie reda@@ ktor@@ ze , proszę u@@ ca@@ ło@@ wać pana account wró@@ ć . poz@@ dro@@ wić ., Category 0)\n",
      "(EmbeddingText account ja się wiele cie@@ ka@@ wych rzeczy do@@ wiedzi@@ ałem n@@ p że ry@@ cz@@ kow@@ ski to 87 ro@@ cz@@ nik@@ .@@ spraw@@ dzić tekst przed dru@@ kiem to chyba za tru@@ dne ., Category 0)\n",
      "(EmbeddingText account o in@@ wek@@ ty@@ wach proszę poroz@@ mawi@@ ać ze swo@@ im prez@@ es@@ em a nie pie@@ przy@@ ć mi tutaj o jak@@ ich@@ ś przy@@ kł@@ ada@@ ch ., Category 0)\n",
      "(EmbeddingText daj@@ cie fa@@ v a ja wam jutro zrobi@@ ę gad@@ an@@ ego in@@ da pier@@ wsz@@ ego w ży@@ ciu !, Category 0)\n",
      "(EmbeddingText wiek to ok@@ rop@@ ny z@@ łod@@ zi@@ ej@@ . kiedy zac@@ zy@@ nasz rozu@@ mieć , na czym po@@ lega życie , ono ś@@ cina cię z nó@@ g i przy@@ gar@@ bia ci ple@@ cy ., Category 0)\n",
      "(EmbeddingText rt account wiek to ok@@ rop@@ ny z@@ łod@@ zi@@ ej@@ . kiedy zac@@ zy@@ nasz rozu@@ mieć , na czym po@@ lega życie , ono ś@@ cina cię z nó@@ g i przy@@ gar@@ bia ci ple@@ cy ., Category 0)\n",
      "(EmbeddingText account account mo@@ wa była o fak@@ ta@@ ch a nie two@@ ich od@@ czu@@ ci@@ ach czy go uważ@@ asz za po@@ laka czy nie account, Category 0)\n",
      "(EmbeddingText account ale ja uci@@ ek@@ nę tam gdzie pie@@ pr@@ z ro@@ śnie, Category 0)\n"
     ]
    }
   ],
   "source": [
    "neutral_as_offensive = np.nonzero((interp.pred_class != interp.y_true) & (interp.y_true == 0)).reshape(-1)\n",
    "for ix in neutral_as_offensive: print(data.valid_ds[ix])"
   ]
  },
  {
   "cell_type": "code",
   "execution_count": null,
   "metadata": {},
   "outputs": [],
   "source": []
  }
 ],
 "metadata": {
  "kernelspec": {
   "display_name": "Python [conda env:laser]",
   "language": "python",
   "name": "conda-env-laser-py"
  },
  "language_info": {
   "codemirror_mode": {
    "name": "ipython",
    "version": 3
   },
   "file_extension": ".py",
   "mimetype": "text/x-python",
   "name": "python",
   "nbconvert_exporter": "python",
   "pygments_lexer": "ipython3",
   "version": "3.6.8"
  }
 },
 "nbformat": 4,
 "nbformat_minor": 2
}
