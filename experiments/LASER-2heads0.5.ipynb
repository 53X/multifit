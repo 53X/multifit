{
  "cells": [
    {
      "cell_type": "code",
      "execution_count": 1,
      "metadata": {
        "scrolled": true,
        "pycharm": {
          "is_executing": false
        }
      },
      "outputs": [
        {
          "name": "stdout",
          "text": [
            "/home/pczapla/workspace/ulmfit-multilingual\r\n"
          ],
          "output_type": "stream"
        }
      ],
      "source": [
        "!pwd"
      ]
    },
    {
      "cell_type": "code",
      "execution_count": 9,
      "metadata": {
        "pycharm": {
          "is_executing": false
        }
      },
      "outputs": [],
      "source": [
        "from fastai.text import *"
      ]
    },
    {
      "cell_type": "code",
      "execution_count": 3,
      "metadata": {
        "pycharm": {
          "is_executing": false
        }
      },
      "outputs": [],
      "source": [
        "# unzip task6_test.zip\n",
        "# unzip task_6-1.zip -d Task6/task\\ 01\n",
        "# unzip task_6-2.zip -d Task6/task\\ 02\n",
        "# mv Task6/task\\ 01 task-1\n",
        "# mv Task6/task\\ 02 task-2\n",
        "# rmdir Task6"
      ]
    },
    {
      "cell_type": "code",
      "execution_count": 4,
      "metadata": {
        "pycharm": {
          "is_executing": false
        }
      },
      "outputs": [],
      "source": [
        "torch.cuda.set_device(1)"
      ]
    },
    {
      "cell_type": "code",
      "execution_count": 10,
      "metadata": {
        "scrolled": true,
        "pycharm": {
          "is_executing": false
        }
      },
      "outputs": [
        {
          "data": {
            "text/plain": "[PosixPath(\u0027data/poleval19/task-1/test_set_clean_only_text.txt\u0027),\n PosixPath(\u0027data/poleval19/task-1/training_set_clean_only_text.tmp.tok\u0027),\n PosixPath(\u0027data/poleval19/task-1/training_set_clean_only_text.txt\u0027),\n PosixPath(\u0027data/poleval19/task-1/toxic-train-tags.csv\u0027),\n PosixPath(\u0027data/poleval19/task-1/test_set_clean_only_text.tmp.bpe\u0027),\n PosixPath(\u0027data/poleval19/task-1/test_set_clean_only_text.tmp.enc\u0027),\n PosixPath(\u0027data/poleval19/task-1/test_set_clean_only_text.tmp.split\u0027),\n PosixPath(\u0027data/poleval19/task-1/toxic-train-text.tmp.split.enc\u0027),\n PosixPath(\u0027data/poleval19/task-1/test_set_clean_only_text.tmp.sid\u0027),\n PosixPath(\u0027data/poleval19/task-1/toxic-train-text.tmp.sid\u0027),\n PosixPath(\u0027data/poleval19/task-1/training_set_clean_only_tags.txt\u0027),\n PosixPath(\u0027data/poleval19/task-1/training_set_clean_only_text.tmp.sid\u0027),\n PosixPath(\u0027data/poleval19/task-1/toxic-train-text.tmp.tok\u0027),\n PosixPath(\u0027data/poleval19/task-1/training_set_clean_only_text.tmp.split.enc\u0027),\n PosixPath(\u0027data/poleval19/task-1/models\u0027),\n PosixPath(\u0027data/poleval19/task-1/toxic-train-text.csv\u0027),\n PosixPath(\u0027data/poleval19/task-1/evaulate1.pl\u0027),\n PosixPath(\u0027data/poleval19/task-1/test_set_clean_only_text.tmp.tok\u0027),\n PosixPath(\u0027data/poleval19/task-1/toxic-train-text.tmp.bpe\u0027),\n PosixPath(\u0027data/poleval19/task-1/test_set_clean_only_tags.txt\u0027),\n PosixPath(\u0027data/poleval19/task-1/training_set_clean_only_text.tmp.enc\u0027),\n PosixPath(\u0027data/poleval19/task-1/toxic-train-text.tmp.enc\u0027),\n PosixPath(\u0027data/poleval19/task-1/toxic-train-text.tmp.split\u0027),\n PosixPath(\u0027data/poleval19/task-1/training_set_clean_only_text.tmp.split\u0027),\n PosixPath(\u0027data/poleval19/task-1/training_set_clean_only_text.tmp.bpe\u0027),\n PosixPath(\u0027data/poleval19/task-1/test_set_clean_only_text.tmp.split.enc\u0027)]"
          },
          "metadata": {},
          "output_type": "execute_result",
          "execution_count": 10
        }
      ],
      "source": "dataset\u003dPath(\u0027data\u0027)/\u0027poleval19\u0027/\u0027task-1\u0027\ndataset.ls()"
    },
    {
      "cell_type": "code",
      "execution_count": 11,
      "metadata": {
        "pycharm": {
          "is_executing": false
        }
      },
      "outputs": [],
      "source": "fn \u003d \u0027data/toxic-comment/train.csv\u0027\ndf \u003d pd.read_csv(fn)\ncomment_text \u003d df.comment_text.str.replace(\"\\n\", \" \")\ndel df[\u0027comment_text\u0027]"
    },
    {
      "cell_type": "code",
      "execution_count": 12,
      "metadata": {
        "pycharm": {
          "is_executing": false
        }
      },
      "outputs": [],
      "source": [
        "comment_text.to_csv(dataset/\"toxic-train-text.csv\", sep\u003d\u0027\\t\u0027, index\u003dFalse, header\u003dFalse, quoting\u003dcsv.QUOTE_NONE, quotechar\u003d\u0027|\u0027, escapechar\u003d\u0027\\\\\u0027)\n",
        "df.to_csv(dataset/\"toxic-train-tags.csv\", index\u003dFalse, header\u003dFalse)"
      ]
    },
    {
      "cell_type": "code",
      "execution_count": 13,
      "metadata": {
        "pycharm": {
          "is_executing": false
        }
      },
      "outputs": [
        {
          "name": "stdout",
          "text": [
            "Explanation Why the edits made under my username Hardcore Metallica Fan were reverted? They weren\u0027t vandalisms, just closure on some GAs after I voted at New York Dolls FAC. And please don\u0027t remove the template from the talk page since I\u0027m retired now.89.205.38.27\r\nD\u0027aww! He matches this background colour I\u0027m seemingly stuck with. Thanks.  (talk) 21:51, January 11, 2016 (UTC)\r\nHey man, I\u0027m really not trying to edit war. It\u0027s just that this guy is constantly removing relevant information and talking to me through edits instead of my talk page. He seems to care more about the formatting than the actual info.\r\n\" More I can\u0027t make any real suggestions on improvement - I wondered if the section statistics should be later on, or a subsection of \"\"types of accidents\"\"  -I think the references may need tidying so that they are all in the exact same format ie date format etc. I can do that later on, if no-one else does first - if you have any preferences for formatting style on references or want to do it yourself please let me know.  There appears to be a backlog on articles for review so I guess there may be a delay until a reviewer turns up. It\u0027s listed in the relevant form eg Wikipedia:Good_article_nominations#Transport  \"\r\nYou, sir, are my hero. Any chance you remember what page that\u0027s on?\r\n\"  Congratulations from me as well, use the tools well.  · talk \"\r\nCOCKSUCKER BEFORE YOU PISS AROUND ON MY WORK\r\nYour vandalism to the Matt Shirvington article has been reverted.  Please don\u0027t do it again, or you will be banned.\r\nSorry if the word \u0027nonsense\u0027 was offensive to you. Anyway, I\u0027m not intending to write anything in the article(wow they would jump on me for vandalism), I\u0027m merely requesting that it be more encyclopedic so one can use it for school as a reference. I have been to the selective breeding page but it\u0027s almost a stub. It points to \u0027animal breeding\u0027 which is a short messy article that gives you no info. There must be someone around with expertise in eugenics? 93.161.107.169\r\nalignment on this subject and which are contrary to those of DuLithgow\r\n"
          ],
          "output_type": "stream"
        }
      ],
      "source": [
        "!head {dataset/\"toxic-train-text.csv\"}"
      ]
    },
    {
      "cell_type": "code",
      "execution_count": 14,
      "metadata": {
        "pycharm": {
          "is_executing": false
        }
      },
      "outputs": [],
      "source": [
        "LASER \u003d os.environ.get(\u0027LASER\u0027, \"/home/pczapla/workspace/_oss/LASER\")\n",
        "os.environ[\u0027LASER\u0027] \u003d LASER\n",
        "def cond_add_pypath(*paths):\n",
        "    for path in paths:\n",
        "        if path not in sys.path:\n",
        "            sys.path.append(path)\n",
        "cond_add_pypath(LASER + \u0027/source\u0027,LASER + \u0027/source/tools\u0027)\n",
        "\n",
        "from embed import SentenceEncoder, EncodeLoad, EncodeFile\n",
        "from text_processing import Token, BPEfastApply, SplitLines, JoinEmbed"
      ]
    },
    {
      "cell_type": "code",
      "execution_count": 15,
      "metadata": {
        "pycharm": {
          "is_executing": false
        }
      },
      "outputs": [],
      "source": [
        "from subprocess import run, check_output, DEVNULL\n",
        "def tokenize(inp_fname, out_fname, lang\u003d\u0027en\u0027,\n",
        "          lower_case\u003dTrue, romanize\u003dFalse, descape\u003dFalse,\n",
        "          verbose\u003dFalse, over_write\u003dFalse, gzip\u003dFalse):\n",
        "    FASTBPE \u003d LASER + \u0027/tools-external/fastBPE/fast\u0027\n",
        "    MOSES_BDIR \u003d LASER + \u0027/tools-external/moses-tokenizer/tokenizer/\u0027\n",
        "    MOSES_TOKENIZER \u003d MOSES_BDIR + \u0027tokenizer.perl -q -no-escape -threads 20 -l \u0027\n",
        "    MOSES_LC \u003d MOSES_BDIR + \u0027lowercase.perl\u0027\n",
        "    NORM_PUNC \u003d MOSES_BDIR + \u0027normalize-punctuation.perl -l \u0027\n",
        "    DESCAPE \u003d MOSES_BDIR + \u0027deescape-special-chars.perl\u0027\n",
        "    REM_NON_PRINT_CHAR \u003d MOSES_BDIR + \u0027remove-non-printing-char.perl\u0027\n",
        "\n",
        "    # Romanization (Greek only)\n",
        "    ROMAN_LC \u003d \u0027python3 \u0027 + LASER + \u0027/source/lib/romanize_lc.py -l \u0027\n",
        "\n",
        "    # Mecab tokenizer for Japanese\n",
        "    MECAB \u003d LASER + \u0027/tools-external/mecab\u0027\n",
        "    assert lower_case, \u0027lower case is needed by all the models\u0027\n",
        "    if not out_fname.exists():\n",
        "        cat \u003d \u0027zcat \u0027 if gzip else \u0027cat \u0027\n",
        "        roman \u003d lang if romanize else \u0027none\u0027\n",
        "        # handle some iso3 langauge codes\n",
        "        if lang in (\u0027cmn\u0027, \u0027wuu\u0027, \u0027yue\u0027):\n",
        "            lang \u003d \u0027zh\u0027\n",
        "        if lang in (\u0027jpn\u0027):\n",
        "            lang \u003d \u0027ja\u0027\n",
        "        if verbose:\n",
        "            print(\u0027 - Tokenizer: {} in language {} {} {}\u0027\n",
        "                  .format(os.path.basename(inp_fname), lang,\n",
        "                          \u0027(gzip)\u0027 if gzip else \u0027\u0027,\n",
        "                          \u0027(de-escaped)\u0027 if descape else \u0027\u0027,\n",
        "                          \u0027(romanized)\u0027 if romanize else \u0027\u0027))\n",
        "        cmd \u003d (cat + str(inp_fname)\n",
        "            + \u0027|\u0027 + REM_NON_PRINT_CHAR\n",
        "            + \u0027| sed \"s/\\(@anonymized_account *\\)/account /gi\"\u0027\n",
        "#            + \u0027| iconv -f UTF-8 -t ASCII//TRANSLIT \u0027\n",
        "            + \u0027|\u0027 + NORM_PUNC + lang\n",
        "            + (\u0027|\u0027 + DESCAPE if descape else \u0027\u0027)\n",
        "            + \u0027|\u0027 + MOSES_TOKENIZER + lang\n",
        "            + (\u0027| python3 -m jieba -d \u0027 if lang \u003d\u003d \u0027zh\u0027 else \u0027\u0027)\n",
        "            + (\u0027|\u0027 + MECAB + \u0027/bin/mecab -O wakati -b 50000 \u0027 if lang \u003d\u003d \u0027ja\u0027 else \u0027\u0027)\n",
        "            + (\u0027|\u0027 + ROMAN_LC + roman if romanize else \u0027\u0027)\n",
        "            + (\u0027| tr \"[:upper:]\" \"[:lower:]\"\u0027 if lower_case else \u0027\u0027)\n",
        "            + \u0027\u003e\u0027 + str(out_fname))\n",
        "        print (\"Tokenziation CMD: \", cmd)\n",
        "        run(cmd,\n",
        "            env\u003ddict(os.environ, LD_LIBRARY_PATH\u003dMECAB + \u0027/lib\u0027),\n",
        "            shell\u003dTrue)\n",
        "    elif not over_write and verbose:\n",
        "        print(\u0027 - Tokenizer: {} exists already\u0027\n",
        "              .format(os.path.basename(out_fname), lang))\n",
        "\n",
        "\n",
        "def split_lines(*args): return SplitLines(*list(map(str,args)))\n",
        "def bpe_fast_apply(*args, **kwargs): return BPEfastApply(*list(map(str,args)), **kwargs)\n",
        "def encode_file(enc, *args, **kwargs): return EncodeFile(enc, *list(map(str,args)), **kwargs)\n",
        "def join_embed(*args): return JoinEmbed(*list(map(str,args)))\n",
        "                      \n",
        "def process_file(inputfn, lang\u003d\u0027pl\u0027):\n",
        "    inputfn \u003d Path(inputfn)\n",
        "    args \u003d SimpleNamespace(\n",
        "        encoder\u003dstr(Path(LASER)/\"models\"/\"bilstm.93langs.2018-12-26.pt\"), \n",
        "        bpe_codes\u003dstr(Path(LASER)/\"models\"/\"93langs.fcodes\"),\n",
        "        lang\u003dlang,\n",
        "        buffer_size\u003d10000,\n",
        "        max_tokens\u003d12000,\n",
        "        max_sentences\u003dNone,\n",
        "        cpu\u003dFalse,\n",
        "        verbose\u003dFalse,\n",
        "        stable\u003dTrue)\n",
        "    enc \u003d EncodeLoad(args)\n",
        "    def fn(suffix):\n",
        "        return inputfn.with_suffix(f\u0027.tmp{suffix}\u0027)\n",
        "    tokenize(inputfn,\n",
        "          fn(\u0027.tok\u0027),\n",
        "          lang\u003dlang,\n",
        "          romanize\u003d(True if lang \u003d\u003d \u0027el\u0027 else False),\n",
        "          lower_case\u003dTrue, gzip\u003dFalse,\n",
        "          verbose\u003dargs.verbose, over_write\u003dFalse)\n",
        "    bpe_fast_apply(fn(\u0027.tok\u0027),\n",
        "             fn(\u0027.bpe\u0027),\n",
        "             args.bpe_codes,\n",
        "             verbose\u003dargs.verbose, over_write\u003dFalse)\n",
        "    split_lines(fn(\u0027.bpe\u0027),\n",
        "               fn(\u0027.split\u0027),\n",
        "               fn(\u0027.sid\u0027))\n",
        "    encode_file(enc,\n",
        "               fn(\u0027.split\u0027),\n",
        "               fn(\u0027.split.enc\u0027),\n",
        "               verbose\u003dargs.verbose, over_write\u003dFalse,\n",
        "               buffer_size\u003dargs.buffer_size)\n",
        "    join_embed(fn(\u0027.split.enc\u0027),\n",
        "              fn(\u0027.sid\u0027),\n",
        "              fn(\u0027.enc\u0027))\n",
        "#     encode_file(enc,\n",
        "#                fn(\u0027.bpe\u0027),\n",
        "#                fn(\u0027.enc\u0027),\n",
        "#                verbose\u003dargs.verbose, over_write\u003dFalse,\n",
        "#                buffer_size\u003dargs.buffer_size)\n",
        "    return fn(\u0027.enc\u0027)"
      ]
    },
    {
      "cell_type": "code",
      "execution_count": 66,
      "metadata": {
        "pycharm": {}
      },
      "outputs": [
        {
          "name": "stdout",
          "output_type": "stream",
          "text": [
            " - loading encoder /home/pczapla/workspace/_oss/LASER/models/bilstm.93langs.2018-12-26.pt\n",
            "Tokenziation CMD:  cat ../data/poleval19/task-1/toxic-train-text.csv|/home/pczapla/workspace/_oss/LASER/tools-external/moses-tokenizer/tokenizer/remove-non-printing-char.perl| sed \"s/\\(@anonymized_account *\\)/account /gi\"|/home/pczapla/workspace/_oss/LASER/tools-external/moses-tokenizer/tokenizer/normalize-punctuation.perl -l en|/home/pczapla/workspace/_oss/LASER/tools-external/moses-tokenizer/tokenizer/tokenizer.perl -q -no-escape -threads 20 -l en| tr \"[:upper:]\" \"[:lower:]\"\u003e../data/poleval19/task-1/toxic-train-text.tmp.tok\n",
            " - Split sentences: ../data/poleval19/task-1/toxic-train-text.tmp.bpe\n",
            " -                  lines/max words: 159571/4950 -\u003e 619938/4951\n",
            " - Combine embeddings:\n",
            "                input: ../data/poleval19/task-1/toxic-train-text.tmp.split.enc 619938 sentences\n",
            "                IDs: ../data/poleval19/task-1/toxic-train-text.tmp.sid, 159571 sentences\n",
            "                output: ../data/poleval19/task-1/toxic-train-text.tmp.enc\n"
          ]
        }
      ],
      "source": [
        "!rm {dataset}/toxic-train-text.tmp.*\n",
        "tx_trn_fn \u003d process_file(dataset / \u0027toxic-train-text.csv\u0027, lang\u003d\u0027en\u0027)"
      ]
    },
    {
      "cell_type": "code",
      "execution_count": 67,
      "metadata": {
        "scrolled": true,
        "pycharm": {}
      },
      "outputs": [
        {
          "name": "stdout",
          "output_type": "stream",
          "text": [
            "rm: cannot remove \u0027../data/poleval19/task-1/training_set_clean_only_text.tmp.*\u0027: No such file or directory\n",
            " - loading encoder /home/pczapla/workspace/_oss/LASER/models/bilstm.93langs.2018-12-26.pt\n",
            "Tokenziation CMD:  cat ../data/poleval19/task-1/training_set_clean_only_text.txt|/home/pczapla/workspace/_oss/LASER/tools-external/moses-tokenizer/tokenizer/remove-non-printing-char.perl| sed \"s/\\(@anonymized_account *\\)/account /gi\"|/home/pczapla/workspace/_oss/LASER/tools-external/moses-tokenizer/tokenizer/normalize-punctuation.perl -l pl|/home/pczapla/workspace/_oss/LASER/tools-external/moses-tokenizer/tokenizer/tokenizer.perl -q -no-escape -threads 20 -l pl| tr \"[:upper:]\" \"[:lower:]\"\u003e../data/poleval19/task-1/training_set_clean_only_text.tmp.tok\n",
            " - Split sentences: ../data/poleval19/task-1/training_set_clean_only_text.tmp.bpe\n",
            " -                  lines/max words: 10041/82 -\u003e 12066/83\n",
            " - Combine embeddings:\n",
            "                input: ../data/poleval19/task-1/training_set_clean_only_text.tmp.split.enc 12066 sentences\n",
            "                IDs: ../data/poleval19/task-1/training_set_clean_only_text.tmp.sid, 10041 sentences\n",
            "                output: ../data/poleval19/task-1/training_set_clean_only_text.tmp.enc\n"
          ]
        }
      ],
      "source": [
        "!rm {dataset}/training_set_clean_only_text.tmp.*\n",
        "trn_fn \u003d process_file(dataset / \u0027training_set_clean_only_text.txt\u0027)"
      ]
    },
    {
      "cell_type": "code",
      "execution_count": 69,
      "metadata": {
        "scrolled": true,
        "pycharm": {}
      },
      "outputs": [
        {
          "name": "stdout",
          "output_type": "stream",
          "text": [
            "Dla mnie faworytem do tytułu będzie Cracovia. Zobaczymy, czy typ się sprawdzi.\r",
            "\r\n",
            "account account Brawo ty Daria kibic ma być na dobre i złe\r",
            "\r\n",
            "account account Super, polski premier składa kwiaty na grobach kolaborantów. Ale doczekaliśmy czasów.\r",
            "\r\n",
            "account account Musi. Innej drogi nie mamy.\r",
            "\r\n",
            "Odrzut natychmiastowy, kwaśna mina, mam problem\r",
            "\r\n",
            "Jaki on był fajny xdd pamiętam, że spóźniłam się na jego pierwsze zajęcia i to sporo i za karę kazał mi usiąść w pierwszej ławce XD\r",
            "\r\n",
            "account No nie ma u nas szczęścia 😉\r",
            "\r\n",
            "account Dawno kogoś tak wrednego nie widziałam xd\r",
            "\r\n",
            "account account Zaległości były, ale ważne czy były wezwania do zapłaty z których się klub nie wywiązał.\r",
            "\r\n",
            "account account account Gdzie jest account . Brudziński jesteś kłamcą i marnym kutasem account \r",
            "\r\n",
            "sed: couldn\u0027t write 130 items to stdout: Broken pipe\r\n",
            "cat: write error: Broken pipe\r\n"
          ]
        }
      ],
      "source": [
        "! cat ../data/poleval19/task-1/training_set_clean_only_text.txt| sed \u0027s/\\(@anonymized_account *\\)/account /gi\u0027 |head"
      ]
    },
    {
      "cell_type": "code",
      "execution_count": 70,
      "metadata": {
        "pycharm": {}
      },
      "outputs": [
        {
          "name": "stdout",
          "output_type": "stream",
          "text": [
            "Dla mnie faworytem do tytulu bedzie Cracovia. Zobaczymy, czy typ sie sprawdzi.\r",
            "\r\n",
            "@anonymized_account @anonymized_account Brawo ty Daria kibic ma byc na dobre i zle\r",
            "\r\n",
            "@anonymized_account @anonymized_account Super, polski premier sklada kwiaty na grobach kolaborantow. Ale doczekalismy czasow.\r",
            "\r\n",
            "@anonymized_account @anonymized_account Musi. Innej drogi nie mamy.\r",
            "\r\n",
            "Odrzut natychmiastowy, kwasna mina, mam problem\r",
            "\r\n",
            "Jaki on byl fajny xdd pamietam, ze spoznilam sie na jego pierwsze zajecia i to sporo i za kare kazal mi usiasc w pierwszej lawce XD\r",
            "\r\n",
            "@anonymized_account No nie ma u nas szczescia ?\r",
            "\r\n",
            "@anonymized_account Dawno kogos tak wrednego nie widzialam xd\r",
            "\r\n",
            "@anonymized_account @anonymized_account Zaleglosci byly, ale wazne czy byly wezwania do zaplaty z ktorych sie klub nie wywiazal.\r",
            "\r\n",
            "@anonymized_account @anonymized_account @anonymized_account Gdzie jest @anonymized_account . Brudzinski jestes klamca i marnym kutasem @anonymized_account\r",
            "\r\n",
            "iconv: conversion stopped due to problem in writing the output\r\n"
          ]
        }
      ],
      "source": [
        "! cat ../data/poleval19/task-1/training_set_clean_only_text.txt| iconv -f UTF-8 -t ASCII//TRANSLIT |head"
      ]
    },
    {
      "cell_type": "code",
      "execution_count": 71,
      "metadata": {
        "pycharm": {}
      },
      "outputs": [
        {
          "name": "stdout",
          "output_type": "stream",
          "text": [
            "dla mnie faworytem do tytułu będzie cracovia . zobaczymy , czy typ się sprawdzi .\r\n",
            "account account brawo ty daria kibic ma być na dobre i złe\r\n",
            "account account super , polski premier składa kwiaty na grobach kolaborantów . ale doczekaliśmy czasów .\r\n",
            "account account musi . innej drogi nie mamy .\r\n",
            "odrzut natychmiastowy , kwaśna mina , mam problem\r\n",
            "jaki on był fajny xdd pamiętam , że spóźniłam się na jego pierwsze zajęcia i to sporo i za karę kazał mi usiąść w pierwszej ławce xd\r\n",
            "account no nie ma u nas szczęścia 😉\r\n",
            "account dawno kogoś tak wrednego nie widziałam xd\r\n",
            "account account zaległości były , ale ważne czy były wezwania do zapłaty z których się klub nie wywiązał .\r\n",
            "account account account gdzie jest account . brudziński jesteś kłamcą i marnym kutasem account\r\n"
          ]
        }
      ],
      "source": [
        "! head ../data/poleval19/task-1/training_set_clean_only_text.tmp.tok"
      ]
    },
    {
      "cell_type": "code",
      "execution_count": 72,
      "metadata": {
        "scrolled": true,
        "pycharm": {}
      },
      "outputs": [
        {
          "name": "stdout",
          "output_type": "stream",
          "text": [
            " - loading encoder /home/pczapla/workspace/_oss/LASER/models/bilstm.93langs.2018-12-26.pt\n",
            "Tokenziation CMD:  cat ../data/poleval19/task-1/test_set_clean_only_text.txt|/home/pczapla/workspace/_oss/LASER/tools-external/moses-tokenizer/tokenizer/remove-non-printing-char.perl| sed \"s/\\(@anonymized_account *\\)/account /gi\"|/home/pczapla/workspace/_oss/LASER/tools-external/moses-tokenizer/tokenizer/normalize-punctuation.perl -l pl|/home/pczapla/workspace/_oss/LASER/tools-external/moses-tokenizer/tokenizer/tokenizer.perl -q -no-escape -threads 20 -l pl| tr \"[:upper:]\" \"[:lower:]\"\u003e../data/poleval19/task-1/test_set_clean_only_text.tmp.tok\n",
            " - Split sentences: ../data/poleval19/task-1/test_set_clean_only_text.tmp.bpe\n",
            " -                  lines/max words: 1000/104 -\u003e 1237/105\n",
            " - Combine embeddings:\n",
            "                input: ../data/poleval19/task-1/test_set_clean_only_text.tmp.split.enc 1237 sentences\n",
            "                IDs: ../data/poleval19/task-1/test_set_clean_only_text.tmp.sid, 1000 sentences\n",
            "                output: ../data/poleval19/task-1/test_set_clean_only_text.tmp.enc\n"
          ]
        }
      ],
      "source": [
        "!rm {dataset}/test_set_clean_only_text.tmp.*\n",
        "tst_fn \u003d process_file(dataset / \u0027test_set_clean_only_text.txt\u0027)"
      ]
    },
    {
      "cell_type": "code",
      "execution_count": 19,
      "metadata": {
        "pycharm": {
          "is_executing": false
        }
      },
      "outputs": [],
      "source": "tx_trn_fn\u003d\"data/poleval19/task-1/toxic-train-text.tmp.enc\"\ntrn_fn\u003d \"data/poleval19/task-1/training_set_clean_only_text.tmp.enc\"\ntst_fn\u003d \"data/poleval19/task-1/test_set_clean_only_text.tmp.enc\""
    },
    {
      "cell_type": "code",
      "execution_count": 20,
      "metadata": {
        "pycharm": {
          "is_executing": false
        }
      },
      "outputs": [
        {
          "data": {
            "text/plain": "(10041, 1024)"
          },
          "metadata": {},
          "output_type": "execute_result",
          "execution_count": 20
        }
      ],
      "source": [
        "dim\u003d1024\n",
        "def read_enc(fn):\n",
        "    em \u003d np.fromfile(str(fn),dtype\u003dnp.float32).reshape(-1, dim)\n",
        "    return em\n",
        "read_enc(trn_fn).shape"
      ]
    },
    {
      "cell_type": "code",
      "execution_count": 21,
      "metadata": {
        "pycharm": {
          "is_executing": false
        }
      },
      "outputs": [
        {
          "data": {
            "text/plain": "(1000,)"
          },
          "metadata": {},
          "output_type": "execute_result",
          "execution_count": 21
        }
      ],
      "source": [
        "np.loadtxt(str(dataset/\u0027test_set_clean_only_text.txt\u0027), delimiter\u003d\u0027\\n\u0027, comments\u003dNone, dtype\u003dnp.str).shape"
      ]
    },
    {
      "cell_type": "code",
      "execution_count": 23,
      "metadata": {
        "pycharm": {
          "is_executing": false
        }
      },
      "outputs": [],
      "source": [
        "tst_df \u003d pd.DataFrame({\n",
        "    \u0027y\u0027:np.loadtxt(str(dataset/\u0027test_set_clean_only_tags.txt\u0027),delimiter\u003d\u0027\\n\u0027, comments\u003dNone, dtype\u003dnp.int),\n",
        "    \u0027em\u0027:list(read_enc(tst_fn)), \n",
        "    \u0027txt\u0027:np.loadtxt(str(dataset/\u0027test_set_clean_only_text.tmp.bpe\u0027), delimiter\u003d\u0027\\n\u0027, comments\u003dNone, dtype\u003dnp.str),\n",
        "})\n",
        "\n",
        "pl_trn_df \u003d pd.DataFrame({\n",
        "    \u0027y\u0027:np.loadtxt(str(dataset/\u0027training_set_clean_only_tags.txt\u0027),delimiter\u003d\u0027\\n\u0027, comments\u003dNone, dtype\u003dnp.int),\n",
        "    \u0027em\u0027:list(read_enc(trn_fn)), \n",
        "    \u0027txt\u0027:np.loadtxt(str(dataset/\u0027training_set_clean_only_text.tmp.bpe\u0027), delimiter\u003d\u0027\\n\u0027, comments\u003dNone, dtype\u003dnp.str),\n",
        "})"
      ]
    },
    {
      "cell_type": "code",
      "execution_count": 24,
      "metadata": {
        "pycharm": {
          "is_executing": false
        }
      },
      "outputs": [],
      "source": [
        "txt \u003d np.loadtxt(str(dataset/\u0027toxic-train-text.tmp.bpe\u0027), delimiter\u003d\u0027\\n\u0027, comments\u003dNone, dtype\u003dnp.str)"
      ]
    },
    {
      "cell_type": "code",
      "execution_count": 25,
      "metadata": {
        "pycharm": {
          "is_executing": false
        }
      },
      "outputs": [
        {
          "data": {
            "text/plain": "159571"
          },
          "metadata": {},
          "output_type": "execute_result",
          "execution_count": 25
        }
      ],
      "source": [
        "len (txt)"
      ]
    },
    {
      "cell_type": "code",
      "execution_count": 26,
      "metadata": {
        "pycharm": {
          "is_executing": false
        }
      },
      "outputs": [
        {
          "data": {
            "text/plain": "159571"
          },
          "metadata": {},
          "output_type": "execute_result",
          "execution_count": 26
        }
      ],
      "source": [
        "enc\u003dread_enc(tx_trn_fn)\n",
        "len(enc)"
      ]
    },
    {
      "cell_type": "code",
      "execution_count": 27,
      "metadata": {
        "pycharm": {
          "is_executing": false
        }
      },
      "outputs": [],
      "source": [
        "tx_trn_df \u003d pd.DataFrame({\n",
        "    \u0027ey\u0027: df[\u0027toxic\u0027],\n",
        "    \u0027em\u0027:list(enc), \n",
        "    \u0027txt\u0027:txt,\n",
        "})"
      ]
    },
    {
      "cell_type": "code",
      "execution_count": 28,
      "metadata": {
        "pycharm": {
          "is_executing": false
        }
      },
      "outputs": [],
      "source": [
        "trn_df \u003d pd.concat([pl_trn_df, tx_trn_df], ignore_index\u003dTrue, sort\u003dFalse)[[\u0027y\u0027, \u0027ey\u0027, \u0027em\u0027, \u0027txt\u0027]].fillna(0.5)"
      ]
    },
    {
      "cell_type": "code",
      "execution_count": 29,
      "metadata": {
        "scrolled": false,
        "pycharm": {
          "is_executing": false
        }
      },
      "outputs": [
        {
          "data": {
            "text/plain": "     y   ey                                                 em  \\\n0  0.0  0.5  [0.0047513233, 0.0040491223, 0.015147643, 0.01...   \n1  0.0  0.5  [0.0037102806, -2.0261248e-05, 7.142721e-05, 0...   \n2  0.0  0.5  [0.0065289, 0.0048259646, -0.00015079533, 0.02...   \n3  0.0  0.5  [0.025331493, -0.0001753498, 0.0006774627, 0.0...   \n4  0.0  0.5  [0.007905564, 0.0017290547, -0.0015668216, 0.0...   \n\n                                                 txt  \n0  dla mnie fa@@ wor@@ y@@ tem do ty@@ tu@@ łu bę...  \n1  account account bra@@ wo ty dar@@ ia ki@@ bi@@...  \n2  account account super , pol@@ ski premier sk@@...  \n3  account account musi . in@@ nej dro@@ gi nie m...  \n4  odr@@ zut nat@@ ych@@ mi@@ a@@ sto@@ wy , kwa@...  ",
            "text/html": "\u003cdiv\u003e\n\u003cstyle scoped\u003e\n    .dataframe tbody tr th:only-of-type {\n        vertical-align: middle;\n    }\n\n    .dataframe tbody tr th {\n        vertical-align: top;\n    }\n\n    .dataframe thead th {\n        text-align: right;\n    }\n\u003c/style\u003e\n\u003ctable border\u003d\"1\" class\u003d\"dataframe\"\u003e\n  \u003cthead\u003e\n    \u003ctr style\u003d\"text-align: right;\"\u003e\n      \u003cth\u003e\u003c/th\u003e\n      \u003cth\u003ey\u003c/th\u003e\n      \u003cth\u003eey\u003c/th\u003e\n      \u003cth\u003eem\u003c/th\u003e\n      \u003cth\u003etxt\u003c/th\u003e\n    \u003c/tr\u003e\n  \u003c/thead\u003e\n  \u003ctbody\u003e\n    \u003ctr\u003e\n      \u003cth\u003e0\u003c/th\u003e\n      \u003ctd\u003e0.0\u003c/td\u003e\n      \u003ctd\u003e0.5\u003c/td\u003e\n      \u003ctd\u003e[0.0047513233, 0.0040491223, 0.015147643, 0.01...\u003c/td\u003e\n      \u003ctd\u003edla mnie fa@@ wor@@ y@@ tem do ty@@ tu@@ łu bę...\u003c/td\u003e\n    \u003c/tr\u003e\n    \u003ctr\u003e\n      \u003cth\u003e1\u003c/th\u003e\n      \u003ctd\u003e0.0\u003c/td\u003e\n      \u003ctd\u003e0.5\u003c/td\u003e\n      \u003ctd\u003e[0.0037102806, -2.0261248e-05, 7.142721e-05, 0...\u003c/td\u003e\n      \u003ctd\u003eaccount account bra@@ wo ty dar@@ ia ki@@ bi@@...\u003c/td\u003e\n    \u003c/tr\u003e\n    \u003ctr\u003e\n      \u003cth\u003e2\u003c/th\u003e\n      \u003ctd\u003e0.0\u003c/td\u003e\n      \u003ctd\u003e0.5\u003c/td\u003e\n      \u003ctd\u003e[0.0065289, 0.0048259646, -0.00015079533, 0.02...\u003c/td\u003e\n      \u003ctd\u003eaccount account super , pol@@ ski premier sk@@...\u003c/td\u003e\n    \u003c/tr\u003e\n    \u003ctr\u003e\n      \u003cth\u003e3\u003c/th\u003e\n      \u003ctd\u003e0.0\u003c/td\u003e\n      \u003ctd\u003e0.5\u003c/td\u003e\n      \u003ctd\u003e[0.025331493, -0.0001753498, 0.0006774627, 0.0...\u003c/td\u003e\n      \u003ctd\u003eaccount account musi . in@@ nej dro@@ gi nie m...\u003c/td\u003e\n    \u003c/tr\u003e\n    \u003ctr\u003e\n      \u003cth\u003e4\u003c/th\u003e\n      \u003ctd\u003e0.0\u003c/td\u003e\n      \u003ctd\u003e0.5\u003c/td\u003e\n      \u003ctd\u003e[0.007905564, 0.0017290547, -0.0015668216, 0.0...\u003c/td\u003e\n      \u003ctd\u003eodr@@ zut nat@@ ych@@ mi@@ a@@ sto@@ wy , kwa@...\u003c/td\u003e\n    \u003c/tr\u003e\n  \u003c/tbody\u003e\n\u003c/table\u003e\n\u003c/div\u003e"
          },
          "metadata": {},
          "output_type": "execute_result",
          "execution_count": 29
        }
      ],
      "source": [
        "trn_df.head()"
      ]
    },
    {
      "cell_type": "code",
      "execution_count": 30,
      "metadata": {
        "pycharm": {
          "is_executing": false
        }
      },
      "outputs": [],
      "source": [
        "tst_df[\u0027ey\u0027] \u003d 0.5\n",
        "tst_df\u003dtst_df[[\u0027y\u0027, \u0027ey\u0027, \u0027em\u0027, \u0027txt\u0027]]"
      ]
    },
    {
      "cell_type": "code",
      "execution_count": 31,
      "metadata": {
        "pycharm": {
          "is_executing": false
        }
      },
      "outputs": [
        {
          "data": {
            "text/plain": "   y   ey                                                 em  \\\n0  0  0.5  [0.01599568, 0.0028042805, -0.0040145353, 0.01...   \n1  0  0.5  [0.010937454, -4.452362e-05, 0.003249705, 0.01...   \n2  0  0.5  [0.008327394, -3.972248e-05, -0.0011421117, 0....   \n3  0  0.5  [0.008076943, 0.0034733585, -0.002149525, 0.00...   \n4  0  0.5  [0.0062172827, 0.0055052936, -0.00076900126, 0...   \n\n                                                 txt  \n0  account spo@@ ko , jak im duda z mor@@ awi@@ e...  \n1  account account ale on tu nie miał sz@@ ans je...  \n2  account no czy pre@@ zes nie miał ra@@ cji , m...  \n3  account account przecież to nawet nie jest prz...  \n4  account account ow@@ sz@@ em podat@@ ki tak . ...  ",
            "text/html": "\u003cdiv\u003e\n\u003cstyle scoped\u003e\n    .dataframe tbody tr th:only-of-type {\n        vertical-align: middle;\n    }\n\n    .dataframe tbody tr th {\n        vertical-align: top;\n    }\n\n    .dataframe thead th {\n        text-align: right;\n    }\n\u003c/style\u003e\n\u003ctable border\u003d\"1\" class\u003d\"dataframe\"\u003e\n  \u003cthead\u003e\n    \u003ctr style\u003d\"text-align: right;\"\u003e\n      \u003cth\u003e\u003c/th\u003e\n      \u003cth\u003ey\u003c/th\u003e\n      \u003cth\u003eey\u003c/th\u003e\n      \u003cth\u003eem\u003c/th\u003e\n      \u003cth\u003etxt\u003c/th\u003e\n    \u003c/tr\u003e\n  \u003c/thead\u003e\n  \u003ctbody\u003e\n    \u003ctr\u003e\n      \u003cth\u003e0\u003c/th\u003e\n      \u003ctd\u003e0\u003c/td\u003e\n      \u003ctd\u003e0.5\u003c/td\u003e\n      \u003ctd\u003e[0.01599568, 0.0028042805, -0.0040145353, 0.01...\u003c/td\u003e\n      \u003ctd\u003eaccount spo@@ ko , jak im duda z mor@@ awi@@ e...\u003c/td\u003e\n    \u003c/tr\u003e\n    \u003ctr\u003e\n      \u003cth\u003e1\u003c/th\u003e\n      \u003ctd\u003e0\u003c/td\u003e\n      \u003ctd\u003e0.5\u003c/td\u003e\n      \u003ctd\u003e[0.010937454, -4.452362e-05, 0.003249705, 0.01...\u003c/td\u003e\n      \u003ctd\u003eaccount account ale on tu nie miał sz@@ ans je...\u003c/td\u003e\n    \u003c/tr\u003e\n    \u003ctr\u003e\n      \u003cth\u003e2\u003c/th\u003e\n      \u003ctd\u003e0\u003c/td\u003e\n      \u003ctd\u003e0.5\u003c/td\u003e\n      \u003ctd\u003e[0.008327394, -3.972248e-05, -0.0011421117, 0....\u003c/td\u003e\n      \u003ctd\u003eaccount no czy pre@@ zes nie miał ra@@ cji , m...\u003c/td\u003e\n    \u003c/tr\u003e\n    \u003ctr\u003e\n      \u003cth\u003e3\u003c/th\u003e\n      \u003ctd\u003e0\u003c/td\u003e\n      \u003ctd\u003e0.5\u003c/td\u003e\n      \u003ctd\u003e[0.008076943, 0.0034733585, -0.002149525, 0.00...\u003c/td\u003e\n      \u003ctd\u003eaccount account przecież to nawet nie jest prz...\u003c/td\u003e\n    \u003c/tr\u003e\n    \u003ctr\u003e\n      \u003cth\u003e4\u003c/th\u003e\n      \u003ctd\u003e0\u003c/td\u003e\n      \u003ctd\u003e0.5\u003c/td\u003e\n      \u003ctd\u003e[0.0062172827, 0.0055052936, -0.00076900126, 0...\u003c/td\u003e\n      \u003ctd\u003eaccount account ow@@ sz@@ em podat@@ ki tak . ...\u003c/td\u003e\n    \u003c/tr\u003e\n  \u003c/tbody\u003e\n\u003c/table\u003e\n\u003c/div\u003e"
          },
          "metadata": {},
          "output_type": "execute_result",
          "execution_count": 31
        }
      ],
      "source": [
        "tst_df.head()"
      ]
    },
    {
      "cell_type": "code",
      "execution_count": 32,
      "metadata": {
        "pycharm": {
          "is_executing": false
        }
      },
      "outputs": [
        {
          "data": {
            "text/plain": "y                                                      0\ney                                                   0.5\nem     [0.0037102806, -2.0261248e-05, 7.142721e-05, 0...\ntxt    account account bra@@ wo ty dar@@ ia ki@@ bi@@...\nName: 1, dtype: object"
          },
          "metadata": {},
          "output_type": "execute_result",
          "execution_count": 32
        }
      ],
      "source": [
        "trn_df.loc[1]"
      ]
    },
    {
      "cell_type": "code",
      "execution_count": 33,
      "metadata": {
        "pycharm": {
          "is_executing": false
        }
      },
      "outputs": [
        {
          "data": {
            "text/plain": "array([ 0.015996,  0.002804, -0.004015,  0.018448, ...,  0.022837,  0.005017,  0.011453,  0.016846], dtype\u003dfloat32)"
          },
          "metadata": {},
          "output_type": "execute_result",
          "execution_count": 33
        }
      ],
      "source": [
        "tst_df[\u0027em\u0027][0]"
      ]
    },
    {
      "cell_type": "code",
      "execution_count": 35,
      "metadata": {
        "pycharm": {
          "is_executing": false
        }
      },
      "outputs": [],
      "source": [
        "class EmbeddingText(ItemBase):\n",
        "    \"Basic item for \u003ccode\u003etext\u003c/code\u003e data in numericalized `ids`.\"\n",
        "    def __init__(self, emb, text): self.data,self.text \u003d np.array(emb, dtype\u003dnp.float32),text\n",
        "    def __str__(self):  return str(self.text)"
      ]
    },
    {
      "cell_type": "code",
      "execution_count": 36,
      "metadata": {
        "pycharm": {
          "is_executing": false
        }
      },
      "outputs": [],
      "source": [
        "class EmbeddingList(ItemList):\n",
        "    \"Basic `ItemList` for embeding of text data.\"\n",
        "    _bunch \u003d DataBunch # TextDataBunch converts input to LongTensor !\n",
        "    _processor \u003d []\n",
        "\n",
        "    def __init__(self, items:Iterator, **kwargs):\n",
        "        super().__init__(items, **kwargs)\n",
        "\n",
        "    def find_text_for_em(self, em):\n",
        "        # todo find a way to reverse embedding\n",
        "        return self.inner_df[\u0027txt\u0027][1]\n",
        "        \n",
        "    def get(self, i):\n",
        "        o \u003d super().get(i)\n",
        "        return EmbeddingText(o, self.inner_df[\u0027txt\u0027][i])\n",
        "\n",
        "    def reconstruct(self, t:Tensor):\n",
        "        return EmbeddingText(t, self.find_text_for_em(t))\n",
        "\n",
        "    def show_xys(self, xs, ys, max_len:int\u003d70)-\u003eNone:\n",
        "        \"Show the `xs` (inputs) and `ys` (targets). `max_len` is the maximum number of tokens displayed.\"\n",
        "        from IPython.display import display, HTML\n",
        "        names \u003d [\u0027text\u0027,\u0027target\u0027]\n",
        "        items \u003d []\n",
        "        for i, (x,y) in enumerate(zip(xs,ys)):\n",
        "            txt_x \u003d \u0027 \u0027.join(x.text.split(\u0027 \u0027)[:max_len]) if max_len is not None else x.text\n",
        "            items.append([txt_x, y])\n",
        "        items \u003d np.array(items)\n",
        "        df \u003d pd.DataFrame({n:items[:,i] for i,n in enumerate(names)}, columns\u003dnames)\n",
        "        with pd.option_context(\u0027display.max_colwidth\u0027, -1):\n",
        "            display(HTML(df.to_html(index\u003dFalse)))\n",
        "\n",
        "    def show_xyzs(self, xs, ys, zs, max_len:int\u003d70):\n",
        "        \"Show `xs` (inputs), `ys` (targets) and `zs` (predictions). `max_len` is the maximum number of tokens displayed.\"\n",
        "        from IPython.display import display, HTML\n",
        "        items,names \u003d [],[\u0027text\u0027,\u0027target\u0027,\u0027prediction\u0027]\n",
        "        for i, (x,y,z) in enumerate(zip(xs,ys,zs)):\n",
        "            txt_x \u003d \u0027 \u0027.join(x.text.split(\u0027 \u0027)[:max_len]) if max_len is not None else x.text\n",
        "            items.append([txt_x, y, z])\n",
        "        items \u003d np.array(items)\n",
        "        df \u003d pd.DataFrame({n:items[:,i] for i,n in enumerate(names)}, columns\u003dnames)\n",
        "        with pd.option_context(\u0027display.max_colwidth\u0027, -1):\n",
        "            display(HTML(df.to_html(index\u003dFalse)))"
      ]
    },
    {
      "cell_type": "code",
      "execution_count": 37,
      "metadata": {
        "pycharm": {
          "is_executing": false
        }
      },
      "outputs": [],
      "source": [
        "path\u003ddataset/\"models\"\n",
        "src \u003d ItemLists(path, \n",
        "                EmbeddingList.from_df(trn_df, cols\u003d2, path\u003dpath),\n",
        "                EmbeddingList.from_df(tst_df, cols\u003d2, path\u003dpath))\n",
        "classes\u003dnp.unique(trn_df[\u0027y\u0027])\n",
        "#src.label_from_lists(trn_df[[\u0027y\u0027, \u0027ey\u0027]], tst_df[[\u0027y\u0027, \u0027ey\u0027]], classes\u003dclasses, processor\u003d[]) # todo why it wasnt workign\n",
        "src.label_from_df(cols\u003d[0,1])\n",
        "data \u003d src.databunch(bs\u003d1000, num_workers\u003d0)"
      ]
    },
    {
      "cell_type": "code",
      "execution_count": 38,
      "metadata": {
        "scrolled": true,
        "pycharm": {
          "is_executing": false
        }
      },
      "outputs": [
        {
          "data": {
            "text/plain": "\u003cIPython.core.display.HTML object\u003e",
            "text/html": "\u003ctable border\u003d\"1\" class\u003d\"dataframe\"\u003e\n  \u003cthead\u003e\n    \u003ctr style\u003d\"text-align: right;\"\u003e\n      \u003cth\u003etext\u003c/th\u003e\n      \u003cth\u003etarget\u003c/th\u003e\n    \u003c/tr\u003e\n  \u003c/thead\u003e\n  \u003ctbody\u003e\n    \u003ctr\u003e\n      \u003ctd\u003eaccount account bra@@ wo ty dar@@ ia ki@@ bi@@ c ma być na dobre i zł@@ e\u003c/td\u003e\n      \u003ctd\u003e\u003c/td\u003e\n    \u003c/tr\u003e\n    \u003ctr\u003e\n      \u003ctd\u003eaccount account bra@@ wo ty dar@@ ia ki@@ bi@@ c ma być na dobre i zł@@ e\u003c/td\u003e\n      \u003ctd\u003e\u003c/td\u003e\n    \u003c/tr\u003e\n    \u003ctr\u003e\n      \u003ctd\u003eaccount account bra@@ wo ty dar@@ ia ki@@ bi@@ c ma być na dobre i zł@@ e\u003c/td\u003e\n      \u003ctd\u003e\u003c/td\u003e\n    \u003c/tr\u003e\n    \u003ctr\u003e\n      \u003ctd\u003eaccount account bra@@ wo ty dar@@ ia ki@@ bi@@ c ma być na dobre i zł@@ e\u003c/td\u003e\n      \u003ctd\u003e\u003c/td\u003e\n    \u003c/tr\u003e\n    \u003ctr\u003e\n      \u003ctd\u003eaccount account bra@@ wo ty dar@@ ia ki@@ bi@@ c ma być na dobre i zł@@ e\u003c/td\u003e\n      \u003ctd\u003e\u003c/td\u003e\n    \u003c/tr\u003e\n  \u003c/tbody\u003e\n\u003c/table\u003e"
          },
          "metadata": {},
          "output_type": "display_data"
        }
      ],
      "source": [
        "data.show_batch()"
      ]
    },
    {
      "cell_type": "code",
      "execution_count": 39,
      "metadata": {
        "pycharm": {
          "is_executing": false
        }
      },
      "outputs": [],
      "source": [
        "class LaserSentCLS(nn.Module):\n",
        "    def __init__(self, idim\u003d1024, odim\u003d2, nhid\u003dNone,\n",
        "                 dropout\u003d0.0, activation\u003d\u0027TANH\u0027):\n",
        "        super().__init__()\n",
        "        modules \u003d []\n",
        "\n",
        "        modules \u003d []\n",
        "        print(\u0027 - mlp {:d}\u0027.format(idim), end\u003d\u0027\u0027)\n",
        "        if len(nhid) \u003e 0:\n",
        "            if dropout \u003e 0:\n",
        "                modules.append(nn.Dropout(p\u003ddropout))\n",
        "            nprev \u003d idim\n",
        "            for nh in nhid:\n",
        "                if nh \u003e 0:\n",
        "                    modules.append(nn.Linear(nprev, nh))\n",
        "                    nprev \u003d nh\n",
        "                    if activation \u003d\u003d \u0027TANH\u0027:\n",
        "                        modules.append(nn.Tanh())\n",
        "                        print(\u0027-{:d}t\u0027.format(nh), end\u003d\u0027\u0027)\n",
        "                    elif activation \u003d\u003d \u0027RELU\u0027:\n",
        "                        modules.append(nn.ReLU())\n",
        "                        print(\u0027-{:d}r\u0027.format(nh), end\u003d\u0027\u0027)\n",
        "                    else:\n",
        "                       raise Exception(\u0027Unrecognized activation {activation}\u0027)\n",
        "                    if dropout \u003e 0:\n",
        "                        modules.append(nn.Dropout(p\u003ddropout))\n",
        "            modules.append(nn.Linear(nprev, odim))\n",
        "            print(\u0027-{:d}, dropout\u003d{:.1f}\u0027.format(odim, dropout))\n",
        "        else:\n",
        "            modules.append(nn.Linear(idim, odim))\n",
        "            print(\u0027 - mlp %d-%d\u0027.format(idim, odim))\n",
        "        self.mlp \u003d nn.Sequential(*modules)\n",
        "    def forward(self, x):\n",
        "        return self.mlp(x)"
      ]
    },
    {
      "cell_type": "code",
      "execution_count": 41,
      "metadata": {
        "pycharm": {
          "is_executing": false
        }
      },
      "outputs": [
        {
          "data": {
            "text/plain": "1000"
          },
          "metadata": {},
          "output_type": "execute_result",
          "execution_count": 41
        }
      ],
      "source": [
        "data.train_dl.dl.batch_size"
      ]
    },
    {
      "cell_type": "code",
      "execution_count": 42,
      "metadata": {
        "pycharm": {
          "is_executing": false
        }
      },
      "outputs": [],
      "source": [
        "# FBeta(beta\u003d1, average\u003d\u0027binary\u0027)\n",
        "def accuracy_t(y_pred:Tensor, y_true:Tensor, thresh:float\u003d0.5, ignore_y_val\u003d0.5)-\u003eRank0Tensor:\n",
        "    \"Compute accuracy only for the first axis when `y_pred` and `y_true` are the same size.\"\n",
        "    y_pred \u003d y_pred.sigmoid() \u003e thresh\n",
        "    mask \u003d (y_true !\u003d ignore_y_val)\n",
        "    return ((y_pred)\u003d\u003dy_true.byte())[mask].float().mean()"
      ]
    },
    {
      "cell_type": "code",
      "execution_count": 43,
      "metadata": {
        "scrolled": true,
        "pycharm": {
          "is_executing": false
        }
      },
      "outputs": [
        {
          "data": {
            "text/plain": "tensor(1.)"
          },
          "metadata": {},
          "output_type": "execute_result",
          "execution_count": 43
        }
      ],
      "source": [
        "y_pred\u003dtorch.Tensor([[-1,10],[-1 , 10], [10,10],   [10,   10]])\n",
        "y_true\u003dtorch.Tensor([[0, 1],[0.5, 1.0],[1.0, 1.0], [1.0, 0.5]])\n",
        "mask \u003d (y_true !\u003d 0.5)\n",
        "accuracy_t(y_pred,y_true)"
      ]
    },
    {
      "cell_type": "code",
      "execution_count": 34,
      "metadata": {
        "pycharm": {}
      },
      "outputs": [
        {
          "data": {
            "text/plain": [
              "tensor([[1., 1.],\n",
              "        [0., 1.],\n",
              "        [1., 1.],\n",
              "        [1., 0.]])"
            ]
          },
          "execution_count": 34,
          "metadata": {},
          "output_type": "execute_result"
        }
      ],
      "source": [
        "mask.float()"
      ]
    },
    {
      "cell_type": "code",
      "execution_count": 35,
      "metadata": {
        "scrolled": false,
        "pycharm": {}
      },
      "outputs": [
        {
          "data": {
            "text/plain": [
              "tensor([[0.2689, 1.0000],\n",
              "        [0.2689, 1.0000],\n",
              "        [1.0000, 1.0000],\n",
              "        [1.0000, 1.0000]])"
            ]
          },
          "execution_count": 35,
          "metadata": {},
          "output_type": "execute_result"
        }
      ],
      "source": [
        "y_pred.sigmoid()"
      ]
    },
    {
      "cell_type": "code",
      "execution_count": 36,
      "metadata": {
        "scrolled": true,
        "pycharm": {}
      },
      "outputs": [
        {
          "data": {
            "text/plain": [
              "tensor([[0., 1.],\n",
              "        [0., 1.],\n",
              "        [1., 1.],\n",
              "        [1., 0.]])"
            ]
          },
          "execution_count": 36,
          "metadata": {},
          "output_type": "execute_result"
        }
      ],
      "source": [
        "(y_pred.sigmoid()\u003e0.5).float()*mask.float()"
      ]
    },
    {
      "cell_type": "code",
      "execution_count": 37,
      "metadata": {
        "pycharm": {}
      },
      "outputs": [
        {
          "data": {
            "text/plain": [
              "tensor([[0., 1.],\n",
              "        [0., 1.],\n",
              "        [1., 1.],\n",
              "        [1., 0.]])"
            ]
          },
          "execution_count": 37,
          "metadata": {},
          "output_type": "execute_result"
        }
      ],
      "source": [
        "y_true*mask.float()"
      ]
    },
    {
      "cell_type": "code",
      "execution_count": 44,
      "metadata": {
        "pycharm": {
          "is_executing": false
        }
      },
      "outputs": [],
      "source": [
        "def fbeta(y_pred:Tensor, y_true:Tensor, thresh:float\u003d0.5, beta:float\u003d2, ignore_y_val\u003d0.5, eps:float\u003d1e-9, sigmoid:bool\u003dTrue)-\u003eRank0Tensor:\n",
        "    \"Computes the f_beta between `preds` and `targets`\"\n",
        "    beta2 \u003d beta ** 2\n",
        "    if sigmoid: y_pred \u003d y_pred.sigmoid()\n",
        "    mask \u003d (y_true !\u003d ignore_y_val)\n",
        "    y_pred \u003d (y_pred\u003ethresh).float()*mask.float()\n",
        "    y_true \u003d y_true.float()*mask.float()\n",
        "    TP \u003d (y_pred*y_true).sum(dim\u003d1)\n",
        "    prec \u003d TP/(y_pred.sum(dim\u003d1)+eps)\n",
        "    rec \u003d TP/(y_true.sum(dim\u003d1)+eps)\n",
        "    res \u003d (prec*rec)/(prec*beta2+rec+eps)*(1+beta2)\n",
        "    return res.mean()"
      ]
    },
    {
      "cell_type": "code",
      "execution_count": 45,
      "metadata": {
        "pycharm": {
          "is_executing": false
        }
      },
      "outputs": [],
      "source": [
        "def fbeta1(y_pred, y_true):\n",
        "    return fbeta(y_pred, y_true, thresh\u003d0.5, beta\u003d1, ignore_y_val\u003d0.5)"
      ]
    },
    {
      "cell_type": "code",
      "execution_count": 46,
      "metadata": {
        "pycharm": {
          "is_executing": false
        }
      },
      "outputs": [
        {
          "data": {
            "text/plain": "tensor(1.)"
          },
          "metadata": {},
          "output_type": "execute_result",
          "execution_count": 46
        }
      ],
      "source": [
        "fbeta1(y_pred, y_true)"
      ]
    },
    {
      "cell_type": "code",
      "execution_count": 41,
      "metadata": {
        "pycharm": {}
      },
      "outputs": [],
      "source": [
        "# def f1_loss(input, target, reduction\u003dNone):\n",
        "#     eps \u003d 1e-7\n",
        "#     logit \u003d F.softmax(input, dim\u003d-1) # [bs, 2]\n",
        "#     tp \u003d logit[target \u003d\u003d 1, 1].sum()\n",
        "#     tn \u003d logit[target \u003d\u003d 0, 0].sum()\n",
        "#     bs \u003d target.shape[0]\n",
        "#     return 1.0 - 2.0*tp / (tp - tn + bs +eps)"
      ]
    },
    {
      "cell_type": "code",
      "execution_count": 42,
      "metadata": {
        "pycharm": {}
      },
      "outputs": [],
      "source": [
        "#learn.loss_func\u003df1_loss"
      ]
    },
    {
      "cell_type": "code",
      "execution_count": 47,
      "metadata": {
        "pycharm": {
          "is_executing": false
        }
      },
      "outputs": [],
      "source": [
        "def f1_loss(input, target, reduction\u003dNone, treshold\u003d0.5):\n",
        "    eps \u003d 1e-7\n",
        "    preds \u003d torch.sigmoid(input) # [bs, 2]\n",
        "    tp \u003d (preds[target \u003d\u003d 1]).sum()\n",
        "    tn \u003d (1-preds[target \u003d\u003d 0]).sum()\n",
        "    bs \u003d (target !\u003d 0.5).sum()\n",
        "    #print(tp, tn, bs)\n",
        "    return 1.0 - 2.0*tp / (tp - tn + bs +eps)"
      ]
    },
    {
      "cell_type": "code",
      "execution_count": 48,
      "metadata": {
        "scrolled": true,
        "pycharm": {
          "is_executing": false
        }
      },
      "outputs": [
        {
          "data": {
            "text/plain": "tensor(171.)"
          },
          "metadata": {},
          "output_type": "execute_result",
          "execution_count": 48
        }
      ],
      "source": [
        "y_true \u003d (torch.empty(1000, 1).uniform_(0, 1) \u003e 0.8).float()\n",
        "y_true.sum()"
      ]
    },
    {
      "cell_type": "code",
      "execution_count": 49,
      "metadata": {
        "pycharm": {
          "is_executing": false
        }
      },
      "outputs": [],
      "source": [
        "f1l \u003d[]\n",
        "f1m \u003d[]\n",
        "for prc in range(0, 101):\n",
        "    mask \u003d (torch.empty(1000, 1).uniform_(0, 100) \u003e\u003d prc).float()\n",
        "    y_pred \u003d ((1 - y_true) * (1 - mask) + y_true * mask) * torch.empty_like(y_true).uniform_(2, 100) \n",
        "    f1l.append(-f1_loss(y_pred, y_true).cpu())\n",
        "    f1m.append(fbeta1(y_pred, y_true).cpu())\n",
        "f1l\u003dnp.array(f1l)\n",
        "f1m\u003dnp.array(f1m)"
      ]
    },
    {
      "cell_type": "code",
      "execution_count": 50,
      "metadata": {
        "pycharm": {
          "is_executing": false
        }
      },
      "outputs": [
        {
          "data": {
            "text/plain": "array([-0.548238, -0.551204, -0.557501, -0.558579, ..., -0.837871, -0.837386, -0.841939, -0.842278], dtype\u003dfloat32)"
          },
          "metadata": {},
          "output_type": "execute_result",
          "execution_count": 50
        },
        {
          "data": {
            "text/plain": "\u003cFigure size 432x288 with 1 Axes\u003e",
            "image/png": "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\u003d\n"
          },
          "metadata": {
            "needs_background": "light"
          },
          "output_type": "display_data"
        }
      ],
      "source": [
        "plt.plot(f1l)\n",
        "plt.plot(f1m)\n",
        "f1l"
      ]
    },
    {
      "cell_type": "code",
      "execution_count": 51,
      "metadata": {
        "pycharm": {
          "is_executing": false
        }
      },
      "outputs": [
        {
          "data": {
            "text/plain": "tensor(0.)"
          },
          "metadata": {},
          "output_type": "execute_result",
          "execution_count": 51
        }
      ],
      "source": [
        "fbeta1(y_pred, y_true)"
      ]
    },
    {
      "cell_type": "code",
      "execution_count": 52,
      "metadata": {
        "pycharm": {
          "is_executing": false
        }
      },
      "outputs": [
        {
          "data": {
            "text/plain": "tensor(1.)"
          },
          "metadata": {},
          "output_type": "execute_result",
          "execution_count": 52
        }
      ],
      "source": [
        "y_pred \u003d torch.Tensor([[-1,10],[-1 , 10], [10, 10],   [10,   10]])\n",
        "y_true \u003d torch.Tensor([[0, 1], [0.5, 1.0],[1.0, 1.0], [1.0, 0.5]])\n",
        "mask \u003d (y_true !\u003d 0.5)\n",
        "accuracy_t(y_pred,y_true)"
      ]
    },
    {
      "cell_type": "code",
      "execution_count": 53,
      "metadata": {
        "pycharm": {
          "is_executing": false
        }
      },
      "outputs": [
        {
          "data": {
            "text/plain": "tensor(0.0262)"
          },
          "metadata": {},
          "output_type": "execute_result",
          "execution_count": 53
        }
      ],
      "source": [
        "f1_loss(y_pred, y_true)"
      ]
    },
    {
      "cell_type": "code",
      "execution_count": 54,
      "metadata": {
        "pycharm": {
          "is_executing": false
        }
      },
      "outputs": [
        {
          "name": "stdout",
          "text": [
            " - mlp 1024-100r-50r-2, dropout\u003d0.0\n"
          ],
          "output_type": "stream"
        }
      ],
      "source": [
        "m\u003dLaserSentCLS(nhid\u003d[100, 50], odim\u003d2, dropout\u003d0, activation\u003d\u0027RELU\u0027)\n",
        "learn \u003d Learner(data, m, metrics\u003d[accuracy_thresh,accuracy_t,fbeta1])\n",
        "#learn.loss_func\u003df1_loss\n",
        "learn.save(\"rnd\")"
      ]
    },
    {
      "cell_type": "code",
      "execution_count": 208,
      "metadata": {
        "scrolled": true,
        "pycharm": {}
      },
      "outputs": [
        {
          "data": {
            "text/html": [],
            "text/plain": [
              "\u003cIPython.core.display.HTML object\u003e"
            ]
          },
          "metadata": {},
          "output_type": "display_data"
        },
        {
          "name": "stdout",
          "output_type": "stream",
          "text": [
            "LR Finder is complete, type {learner_name}.recorder.plot() to see the graph.\n"
          ]
        },
        {
          "data": {
            "image/png": "[encoded data removed]",
            "text/plain": [
              "\u003cFigure size 432x288 with 1 Axes\u003e"
            ]
          },
          "metadata": {
            "needs_background": "light"
          },
          "output_type": "display_data"
        }
      ],
      "source": [
        "learn.lr_find();learn.recorder.plot()"
      ]
    },
    {
      "cell_type": "code",
      "execution_count": 221,
      "metadata": {
        "pycharm": {}
      },
      "outputs": [],
      "source": [
        "def fbeta1(y_pred, y_true):\n",
        "    return fbeta(y_pred, y_true, thresh\u003d0.5, beta\u003d1, ignore_y_val\u003d0.5)"
      ]
    },
    {
      "cell_type": "code",
      "execution_count": 55,
      "metadata": {
        "scrolled": true,
        "pycharm": {
          "is_executing": false
        }
      },
      "outputs": [
        {
          "name": "stderr",
          "text": [
            "/home/pczapla/anaconda3/envs/fastaiv1/lib/python3.7/site-packages/torch/serialization.py:251: UserWarning: Couldn\u0027t retrieve source code for container of type LaserSentCLS. It won\u0027t be checked for correctness upon loading.\n  \"type \" + obj.__name__ + \". It won\u0027t be checked \"\n"
          ],
          "output_type": "stream"
        },
        {
          "data": {
            "text/plain": "\u003cIPython.core.display.HTML object\u003e",
            "text/html": "\n    \u003cdiv\u003e\n        \u003cstyle\u003e\n            /* Turns off some styling */\n            progress {\n                /* gets rid of default border in Firefox and Opera. */\n                border: none;\n                /* Needs to be in here for Safari polyfill so background images work as expected. */\n                background-size: auto;\n            }\n            .progress-bar-interrupted, .progress-bar-interrupted::-webkit-progress-bar {\n                background: #F44336;\n            }\n        \u003c/style\u003e\n      \u003cprogress value\u003d\u00270\u0027 class\u003d\u0027\u0027 max\u003d\u00273\u0027, style\u003d\u0027width:300px; height:20px; vertical-align: middle;\u0027\u003e\u003c/progress\u003e\n      \n    \u003c/div\u003e\n    \n"
          },
          "metadata": {},
          "output_type": "display_data"
        }
      ],
      "source": "from fastai.callbacks import * \nruns\u003d[]\nfor i in range(0, 1):\n    learn.load(\"rnd\")\n    #cb\u003dSaveModelCallback(learn, every\u003d\u0027improvement\u0027,monitor\u003d\u0027fbeta1\u0027, name\u003d\u0027best\u0027)\n    learn.fit_one_cycle(3, 0.08, wd\u003d0.06)"
    },
    {
      "cell_type": "code",
      "execution_count": 257,
      "metadata": {
        "pycharm": {}
      },
      "outputs": [
        {
          "data": {
            "text/plain": [
              "[0.53880954, tensor(0.7195), tensor(0.8660), tensor(0.)]"
            ]
          },
          "execution_count": 257,
          "metadata": {},
          "output_type": "execute_result"
        }
      ],
      "source": [
        "learn.validate()"
      ]
    },
    {
      "cell_type": "code",
      "execution_count": 269,
      "metadata": {
        "pycharm": {}
      },
      "outputs": [
        {
          "ename": "TypeError",
          "evalue": "get_preds() got an unexpected keyword argument \u0027activ\u0027",
          "output_type": "error",
          "traceback": [
            "\u001b[0;31m---------------------------------------------------------------------------\u001b[0m",
            "\u001b[0;31mTypeError\u001b[0m                                 Traceback (most recent call last)",
            "\u001b[0;32m\u003cipython-input-269-e97a4c9406e0\u003e\u001b[0m in \u001b[0;36m\u003cmodule\u003e\u001b[0;34m\u001b[0m\n\u001b[0;32m----\u003e 1\u001b[0;31m \u001b[0my_pred\u001b[0m\u001b[0;34m,\u001b[0m \u001b[0my_true\u001b[0m \u001b[0;34m\u003d\u001b[0m \u001b[0mlearn\u001b[0m\u001b[0;34m.\u001b[0m\u001b[0mget_preds\u001b[0m\u001b[0;34m(\u001b[0m\u001b[0mactiv\u001b[0m\u001b[0;34m\u003d\u001b[0m\u001b[0;32mNone\u001b[0m\u001b[0;34m)\u001b[0m\u001b[0;34m\u001b[0m\u001b[0;34m\u001b[0m\u001b[0m\n\u001b[0m\u001b[1;32m      2\u001b[0m \u001b[0maccuracy_thresh\u001b[0m\u001b[0;34m(\u001b[0m\u001b[0my_pred\u001b[0m\u001b[0;34m,\u001b[0m \u001b[0my_true\u001b[0m\u001b[0;34m)\u001b[0m\u001b[0;34m,\u001b[0m\u001b[0maccuracy_t\u001b[0m\u001b[0;34m(\u001b[0m\u001b[0my_pred\u001b[0m\u001b[0;34m,\u001b[0m \u001b[0my_true\u001b[0m\u001b[0;34m)\u001b[0m\u001b[0;34m,\u001b[0m \u001b[0mfbeta1\u001b[0m\u001b[0;34m(\u001b[0m\u001b[0my_pred\u001b[0m\u001b[0;34m,\u001b[0m \u001b[0my_true\u001b[0m\u001b[0;34m)\u001b[0m\u001b[0;34m,\u001b[0m\u001b[0;34m\u001b[0m\u001b[0;34m\u001b[0m\u001b[0m\n",
            "\u001b[0;31mTypeError\u001b[0m: get_preds() got an unexpected keyword argument \u0027activ\u0027"
          ]
        }
      ],
      "source": [
        "y_pred, y_true \u003d learn.get_preds(activ\u003dNone)\n",
        "accuracy_thresh(y_pred, y_true),accuracy_t(y_pred, y_true), fbeta1(y_pred, y_true), "
      ]
    },
    {
      "cell_type": "code",
      "execution_count": 267,
      "metadata": {
        "pycharm": {}
      },
      "outputs": [
        {
          "data": {
            "text/plain": [
              "tensor([[0, 0],\n",
              "        [0, 0],\n",
              "        [0, 0],\n",
              "        ...,\n",
              "        [0, 0],\n",
              "        [0, 0],\n",
              "        [0, 0]], dtype\u003dtorch.uint8)"
            ]
          },
          "execution_count": 267,
          "metadata": {},
          "output_type": "execute_result"
        }
      ],
      "source": [
        "y_pred \u003c0"
      ]
    },
    {
      "cell_type": "code",
      "execution_count": 251,
      "metadata": {
        "pycharm": {}
      },
      "outputs": [
        {
          "data": {
            "text/plain": [
              "tensor(134)"
            ]
          },
          "execution_count": 251,
          "metadata": {},
          "output_type": "execute_result"
        }
      ],
      "source": [
        "((y_pred.sigmoid()\u003e0.5).float() \u003d\u003d y_true).sum()"
      ]
    },
    {
      "cell_type": "code",
      "execution_count": 252,
      "metadata": {
        "scrolled": true,
        "pycharm": {}
      },
      "outputs": [
        {
          "data": {
            "text/plain": [
              "tensor(134)"
            ]
          },
          "execution_count": 252,
          "metadata": {},
          "output_type": "execute_result"
        }
      ],
      "source": [
        "((y_pred.sigmoid() \u003e 0.5).float()  \u003d\u003d y_true)[y_true\u003d\u003d1.0].sum()"
      ]
    },
    {
      "cell_type": "code",
      "execution_count": 259,
      "metadata": {
        "scrolled": true,
        "pycharm": {}
      },
      "outputs": [
        {
          "data": {
            "text/plain": [
              "tensor(0.0670)"
            ]
          },
          "execution_count": 259,
          "metadata": {},
          "output_type": "execute_result"
        }
      ],
      "source": [
        "accuracy_thresh(y_pred, y_true)"
      ]
    },
    {
      "cell_type": "code",
      "execution_count": 238,
      "metadata": {
        "pycharm": {}
      },
      "outputs": [],
      "source": [
        "# FBeta(beta\u003d1, average\u003d\u0027binary\u0027)\n",
        "def accuracy_t(y_pred:Tensor, y_true:Tensor, thresh:float\u003d0.5, ignore_y_val\u003d0.5)-\u003eRank0Tensor:\n",
        "    \"Compute accuracy only for the first axis when `y_pred` and `y_true` are the same size.\"\n",
        "    y_pred \u003d y_pred.sigmoid() \u003e thresh\n",
        "    mask \u003d (y_true !\u003d ignore_y_val)\n",
        "    return ((y_pred)\u003d\u003dy_true.byte())[mask].float().mean()"
      ]
    },
    {
      "cell_type": "code",
      "execution_count": null,
      "metadata": {
        "pycharm": {}
      },
      "outputs": [],
      "source": []
    },
    {
      "cell_type": "code",
      "execution_count": 231,
      "metadata": {
        "pycharm": {}
      },
      "outputs": [],
      "source": [
        "def f_tst(y_pred:Tensor, y_true:Tensor, thresh:float\u003d0.5, beta:float\u003d1,\n",
        "          ignore_y_val\u003d0.5, eps:float\u003d1e-9, sigmoid:bool\u003dTrue)-\u003eRank0Tensor:\n",
        "    \"Computes the f_beta between `preds` and `targets`\"\n",
        "    \n",
        "    beta2 \u003d beta ** 2\n",
        "    if sigmoid: y_pred \u003d y_pred.sigmoid()\n",
        "    mask \u003d (y_true !\u003d ignore_y_val)\n",
        "    y_pred \u003d (y_pred\u003ethresh).float()*mask.float()\n",
        "    y_true \u003d y_true.float()*mask.float()\n",
        "    TP \u003d (y_pred*y_true).sum(dim\u003d1)\n",
        "    prec \u003d TP/(y_pred.sum(dim\u003d1)+eps)\n",
        "    rec \u003d TP/(y_true.sum(dim\u003d1)+eps)\n",
        "    res \u003d (prec*rec)/(prec*beta2+rec+eps)*(1+beta2)\n",
        "    return res.mean()"
      ]
    },
    {
      "cell_type": "code",
      "execution_count": 233,
      "metadata": {
        "pycharm": {}
      },
      "outputs": [
        {
          "data": {
            "text/plain": [
              "tensor([[0.0000, 0.5000],\n",
              "        [0.0000, 0.5000],\n",
              "        [0.0000, 0.5000],\n",
              "        ...,\n",
              "        [0.0000, 0.5000],\n",
              "        [1.0000, 0.5000],\n",
              "        [0.0000, 0.5000]])"
            ]
          },
          "execution_count": 233,
          "metadata": {},
          "output_type": "execute_result"
        }
      ],
      "source": [
        "y_true"
      ]
    },
    {
      "cell_type": "code",
      "execution_count": 232,
      "metadata": {
        "pycharm": {}
      },
      "outputs": [
        {
          "data": {
            "text/plain": [
              "tensor(0.1340)"
            ]
          },
          "execution_count": 232,
          "metadata": {},
          "output_type": "execute_result"
        }
      ],
      "source": [
        "f_tst(y_pred, y_true)"
      ]
    },
    {
      "cell_type": "code",
      "execution_count": 192,
      "metadata": {
        "scrolled": true,
        "pycharm": {}
      },
      "outputs": [
        {
          "data": {
            "text/plain": [
              "(0.134, 0.13400002, 1.4901161e-08)"
            ]
          },
          "execution_count": 192,
          "metadata": {},
          "output_type": "execute_result"
        }
      ],
      "source": [
        "np.max(runs), np.mean(runs), np.std(runs)"
      ]
    },
    {
      "cell_type": "code",
      "execution_count": 169,
      "metadata": {
        "scrolled": false,
        "pycharm": {}
      },
      "outputs": [
        {
          "data": {
            "text/html": [
              "Total time: 00:49 \u003cp\u003e\u003ctable border\u003d\"1\" class\u003d\"dataframe\"\u003e\n",
              "  \u003cthead\u003e\n",
              "    \u003ctr style\u003d\"text-align: left;\"\u003e\n",
              "      \u003cth\u003eepoch\u003c/th\u003e\n",
              "      \u003cth\u003etrain_loss\u003c/th\u003e\n",
              "      \u003cth\u003evalid_loss\u003c/th\u003e\n",
              "      \u003cth\u003eaccuracy_thresh\u003c/th\u003e\n",
              "      \u003cth\u003eaccuracy_t\u003c/th\u003e\n",
              "      \u003cth\u003efbeta1\u003c/th\u003e\n",
              "      \u003cth\u003etime\u003c/th\u003e\n",
              "    \u003c/tr\u003e\n",
              "  \u003c/thead\u003e\n",
              "  \u003ctbody\u003e\n",
              "    \u003ctr\u003e\n",
              "      \u003ctd\u003e0\u003c/td\u003e\n",
              "      \u003ctd\u003e0.419429\u003c/td\u003e\n",
              "      \u003ctd\u003e0.559374\u003c/td\u003e\n",
              "      \u003ctd\u003e0.650000\u003c/td\u003e\n",
              "      \u003ctd\u003e0.866000\u003c/td\u003e\n",
              "      \u003ctd\u003e0.000000\u003c/td\u003e\n",
              "      \u003ctd\u003e00:09\u003c/td\u003e\n",
              "    \u003c/tr\u003e\n",
              "    \u003ctr\u003e\n",
              "      \u003ctd\u003e1\u003c/td\u003e\n",
              "      \u003ctd\u003e0.414841\u003c/td\u003e\n",
              "      \u003ctd\u003e0.538203\u003c/td\u003e\n",
              "      \u003ctd\u003e0.856500\u003c/td\u003e\n",
              "      \u003ctd\u003e0.862000\u003c/td\u003e\n",
              "      \u003ctd\u003e0.000000\u003c/td\u003e\n",
              "      \u003ctd\u003e00:09\u003c/td\u003e\n",
              "    \u003c/tr\u003e\n",
              "    \u003ctr\u003e\n",
              "      \u003ctd\u003e2\u003c/td\u003e\n",
              "      \u003ctd\u003e0.408413\u003c/td\u003e\n",
              "      \u003ctd\u003e0.511236\u003c/td\u003e\n",
              "      \u003ctd\u003e0.791000\u003c/td\u003e\n",
              "      \u003ctd\u003e0.879000\u003c/td\u003e\n",
              "      \u003ctd\u003e0.014000\u003c/td\u003e\n",
              "      \u003ctd\u003e00:10\u003c/td\u003e\n",
              "    \u003c/tr\u003e\n",
              "    \u003ctr\u003e\n",
              "      \u003ctd\u003e3\u003c/td\u003e\n",
              "      \u003ctd\u003e0.402823\u003c/td\u003e\n",
              "      \u003ctd\u003e0.505788\u003c/td\u003e\n",
              "      \u003ctd\u003e0.646500\u003c/td\u003e\n",
              "      \u003ctd\u003e0.883000\u003c/td\u003e\n",
              "      \u003ctd\u003e0.033000\u003c/td\u003e\n",
              "      \u003ctd\u003e00:10\u003c/td\u003e\n",
              "    \u003c/tr\u003e\n",
              "    \u003ctr\u003e\n",
              "      \u003ctd\u003e4\u003c/td\u003e\n",
              "      \u003ctd\u003e0.400633\u003c/td\u003e\n",
              "      \u003ctd\u003e0.510398\u003c/td\u003e\n",
              "      \u003ctd\u003e0.693000\u003c/td\u003e\n",
              "      \u003ctd\u003e0.884000\u003c/td\u003e\n",
              "      \u003ctd\u003e0.025000\u003c/td\u003e\n",
              "      \u003ctd\u003e00:10\u003c/td\u003e\n",
              "    \u003c/tr\u003e\n",
              "  \u003c/tbody\u003e\n",
              "\u003c/table\u003e"
            ],
            "text/plain": [
              "\u003cIPython.core.display.HTML object\u003e"
            ]
          },
          "metadata": {},
          "output_type": "display_data"
        },
        {
          "name": "stdout",
          "output_type": "stream",
          "text": [
            "Better model found at epoch 0 with fbeta1 value: 0.0.\n",
            "Better model found at epoch 2 with fbeta1 value: 0.014000000432133675.\n",
            "Better model found at epoch 3 with fbeta1 value: 0.032999999821186066.\n"
          ]
        }
      ],
      "source": [
        "learn.fit_one_cycle(5, 1e-2, callbacks\u003d[cb])"
      ]
    },
    {
      "cell_type": "code",
      "execution_count": null,
      "metadata": {
        "pycharm": {}
      },
      "outputs": [],
      "source": []
    },
    {
      "cell_type": "code",
      "execution_count": 189,
      "metadata": {
        "scrolled": true,
        "pycharm": {}
      },
      "outputs": [
        {
          "data": {
            "text/plain": [
              "[0.5057879, tensor(0.0330)]"
            ]
          },
          "execution_count": 189,
          "metadata": {},
          "output_type": "execute_result"
        }
      ],
      "source": [
        "learn.validate(metrics\u003d[fbeta_1])"
      ]
    },
    {
      "cell_type": "code",
      "execution_count": 187,
      "metadata": {
        "pycharm": {}
      },
      "outputs": [
        {
          "name": "stdout",
          "output_type": "stream",
          "text": [
            "\u003e \u001b[0;32m\u003cipython-input-185-346e6c34bc60\u003e\u001b[0m(13)\u001b[0;36mfbeta_1\u001b[0;34m()\u001b[0m\n",
            "\u001b[0;32m     10 \u001b[0;31m    \u001b[0mrec\u001b[0m \u001b[0;34m\u003d\u001b[0m \u001b[0mTP\u001b[0m\u001b[0;34m/\u001b[0m\u001b[0;34m(\u001b[0m\u001b[0my_true\u001b[0m\u001b[0;34m.\u001b[0m\u001b[0msum\u001b[0m\u001b[0;34m(\u001b[0m\u001b[0mdim\u001b[0m\u001b[0;34m\u003d\u001b[0m\u001b[0;36m1\u001b[0m\u001b[0;34m)\u001b[0m\u001b[0;34m+\u001b[0m\u001b[0meps\u001b[0m\u001b[0;34m)\u001b[0m\u001b[0;34m\u001b[0m\u001b[0;34m\u001b[0m\u001b[0m\n",
            "\u001b[0m\u001b[0;32m     11 \u001b[0;31m    \u001b[0mres\u001b[0m \u001b[0;34m\u003d\u001b[0m \u001b[0;34m(\u001b[0m\u001b[0mprec\u001b[0m\u001b[0;34m*\u001b[0m\u001b[0mrec\u001b[0m\u001b[0;34m)\u001b[0m\u001b[0;34m/\u001b[0m\u001b[0;34m(\u001b[0m\u001b[0mprec\u001b[0m\u001b[0;34m*\u001b[0m\u001b[0mbeta2\u001b[0m\u001b[0;34m+\u001b[0m\u001b[0mrec\u001b[0m\u001b[0;34m+\u001b[0m\u001b[0meps\u001b[0m\u001b[0;34m)\u001b[0m\u001b[0;34m*\u001b[0m\u001b[0;34m(\u001b[0m\u001b[0;36m1\u001b[0m\u001b[0;34m+\u001b[0m\u001b[0mbeta2\u001b[0m\u001b[0;34m)\u001b[0m\u001b[0;34m\u001b[0m\u001b[0;34m\u001b[0m\u001b[0m\n",
            "\u001b[0m\u001b[0;32m     12 \u001b[0;31m    \u001b[0mprint\u001b[0m\u001b[0;34m(\u001b[0m\u001b[0mres\u001b[0m\u001b[0;34m)\u001b[0m\u001b[0;34m\u001b[0m\u001b[0;34m\u001b[0m\u001b[0m\n",
            "\u001b[0m\u001b[0;32m---\u003e 13 \u001b[0;31m    \u001b[0;32mraise\u001b[0m\u001b[0;34m(\u001b[0m\u001b[0mres\u001b[0m\u001b[0;34m)\u001b[0m\u001b[0;34m\u001b[0m\u001b[0;34m\u001b[0m\u001b[0m\n",
            "\u001b[0m\u001b[0;32m     14 \u001b[0;31m    \u001b[0;32mreturn\u001b[0m \u001b[0mres\u001b[0m\u001b[0;34m.\u001b[0m\u001b[0mmean\u001b[0m\u001b[0;34m(\u001b[0m\u001b[0;34m)\u001b[0m\u001b[0;34m\u001b[0m\u001b[0;34m\u001b[0m\u001b[0m\n",
            "\u001b[0m\n",
            "ipdb\u003e p y_pred.shape\n",
            "torch.Size([200, 2])\n",
            "ipdb\u003e quit\n"
          ]
        }
      ],
      "source": [
        "%debug"
      ]
    },
    {
      "cell_type": "code",
      "execution_count": 175,
      "metadata": {
        "pycharm": {}
      },
      "outputs": [],
      "source": [
        "p, lbls \u003d learn.get_preds()"
      ]
    },
    {
      "cell_type": "code",
      "execution_count": 188,
      "metadata": {
        "pycharm": {}
      },
      "outputs": [],
      "source": [
        "def fbeta_1(y_pred:Tensor, y_true:Tensor, thresh:float\u003d0.5, beta:float\u003d2, ignore_y_val\u003d0.5, eps:float\u003d1e-9, sigmoid:bool\u003dTrue)-\u003eRank0Tensor:\n",
        "    \"Computes the f_beta between `preds` and `targets`\"\n",
        "    beta2 \u003d beta ** 2\n",
        "    if sigmoid: y_pred \u003d y_pred.sigmoid()\n",
        "    mask \u003d (y_true !\u003d ignore_y_val)\n",
        "    y_pred \u003d (y_pred\u003ethresh).float()*mask.float()\n",
        "    y_true \u003d y_true.float()*mask.float()\n",
        "    TP \u003d (y_pred*y_true).sum(dim\u003d1)\n",
        "    prec \u003d TP/(y_pred.sum(dim\u003d1)+eps)\n",
        "    rec \u003d TP/(y_true.sum(dim\u003d1)+eps)\n",
        "    res \u003d (prec*rec)/(prec*beta2+rec+eps)*(1+beta2)\n",
        "    return res.mean()"
      ]
    },
    {
      "cell_type": "code",
      "execution_count": 182,
      "metadata": {
        "pycharm": {}
      },
      "outputs": [
        {
          "name": "stdout",
          "output_type": "stream",
          "text": [
            "tensor([0., 0., 0., 0., 0., 0., 0., 0., 0., 0., 0., 0., 0., 0., 0., 0., 0., 0.,\n",
            "        0., 0., 0., 0., 0., 0., 1., 0., 0., 0., 0., 0., 0., 1., 0., 0., 0., 0.,\n",
            "        0., 1., 0., 0., 0., 0., 0., 0., 0., 0., 0., 0., 0., 0., 0., 1., 0., 0.,\n",
            "        0., 0., 0., 1., 1., 0., 0., 1., 0., 0., 1., 1., 0., 0., 0., 0., 0., 0.,\n",
            "        0., 0., 0., 0., 0., 0., 0., 0., 0., 0., 0., 1., 0., 1., 1., 0., 0., 1.,\n",
            "        0., 0., 0., 0., 0., 0., 0., 0., 0., 0., 0., 1., 0., 0., 0., 0., 0., 0.,\n",
            "        0., 1., 0., 0., 0., 0., 0., 0., 0., 0., 0., 0., 0., 0., 0., 0., 0., 0.,\n",
            "        0., 0., 1., 0., 0., 0., 0., 1., 1., 0., 0., 0., 0., 0., 0., 0., 1., 0.,\n",
            "        0., 0., 0., 0., 0., 0., 0., 0., 0., 0., 0., 0., 0., 0., 0., 0., 0., 0.,\n",
            "        0., 0., 1., 0., 1., 0., 0., 0., 0., 1., 0., 0., 0., 0., 0., 0., 0., 0.,\n",
            "        0., 0., 0., 1., 0., 0., 0., 1., 0., 0., 0., 0., 1., 0., 0., 1., 0., 1.,\n",
            "        0., 0., 0., 0., 0., 0., 0., 0., 0., 0., 1., 0., 0., 0., 0., 0., 0., 1.,\n",
            "        0., 0., 1., 0., 0., 0., 0., 0., 0., 1., 1., 1., 0., 0., 1., 0., 0., 0.,\n",
            "        0., 0., 0., 0., 0., 1., 0., 0., 0., 1., 0., 0., 0., 0., 1., 0., 0., 1.,\n",
            "        1., 0., 0., 0., 1., 0., 0., 0., 1., 0., 0., 1., 0., 0., 0., 0., 0., 0.,\n",
            "        0., 0., 0., 0., 0., 0., 0., 0., 0., 0., 0., 0., 0., 0., 0., 0., 0., 0.,\n",
            "        0., 0., 0., 0., 0., 0., 0., 0., 0., 0., 0., 0., 0., 1., 0., 0., 0., 0.,\n",
            "        0., 0., 0., 0., 0., 0., 0., 0., 0., 0., 0., 1., 0., 0., 0., 0., 0., 0.,\n",
            "        0., 0., 0., 0., 0., 0., 0., 0., 1., 1., 0., 0., 0., 0., 0., 1., 0., 0.,\n",
            "        0., 0., 0., 0., 0., 0., 0., 0., 0., 0., 0., 1., 0., 0., 0., 0., 1., 0.,\n",
            "        0., 0., 1., 0., 0., 0., 0., 0., 0., 0., 0., 0., 0., 0., 0., 0., 0., 0.,\n",
            "        0., 0., 0., 0., 0., 0., 0., 0., 1., 0., 1., 0., 0., 0., 0., 0., 0., 0.,\n",
            "        0., 1., 0., 0., 0., 0., 0., 0., 0., 0., 0., 0., 0., 1., 0., 0., 0., 0.,\n",
            "        0., 0., 0., 0., 0., 0., 0., 0., 0., 1., 0., 0., 0., 0., 0., 0., 0., 0.,\n",
            "        0., 0., 0., 0., 1., 0., 1., 1., 1., 0., 0., 0., 0., 1., 0., 0., 0., 0.,\n",
            "        1., 0., 0., 1., 0., 0., 1., 1., 0., 0., 0., 0., 1., 0., 0., 1., 0., 1.,\n",
            "        1., 0., 0., 0., 0., 1., 0., 1., 0., 0., 0., 0., 0., 0., 1., 0., 1., 0.,\n",
            "        0., 0., 1., 0., 1., 0., 0., 0., 0., 0., 0., 0., 0., 0., 0., 0., 0., 1.,\n",
            "        0., 0., 0., 1., 0., 0., 0., 0., 0., 0., 0., 0., 0., 0., 0., 0., 0., 0.,\n",
            "        0., 0., 0., 0., 1., 0., 0., 0., 0., 0., 0., 0., 0., 0., 0., 0., 1., 0.,\n",
            "        0., 0., 0., 0., 0., 1., 1., 0., 0., 0., 1., 0., 0., 1., 0., 1., 0., 0.,\n",
            "        1., 0., 0., 0., 0., 1., 0., 0., 0., 0., 0., 0., 0., 0., 0., 0., 0., 0.,\n",
            "        0., 0., 0., 0., 0., 0., 0., 0., 0., 1., 0., 0., 1., 1., 0., 0., 0., 0.,\n",
            "        0., 0., 0., 0., 0., 0., 0., 0., 0., 0., 0., 0., 0., 0., 0., 0., 0., 0.,\n",
            "        0., 0., 0., 0., 0., 0., 0., 0., 0., 0., 0., 0., 0., 0., 0., 0., 0., 0.,\n",
            "        0., 0., 1., 0., 0., 0., 0., 0., 0., 0., 0., 0., 0., 1., 0., 0., 0., 1.,\n",
            "        0., 0., 0., 0., 1., 1., 0., 0., 0., 0., 0., 0., 0., 0., 0., 0., 0., 0.,\n",
            "        0., 0., 1., 0., 0., 0., 0., 0., 0., 1., 0., 0., 0., 0., 0., 0., 0., 0.,\n",
            "        0., 0., 0., 0., 0., 0., 0., 0., 0., 0., 0., 0., 0., 0., 0., 0., 0., 0.,\n",
            "        0., 0., 0., 0., 0., 0., 0., 0., 1., 0., 0., 0., 0., 0., 0., 0., 0., 0.,\n",
            "        0., 0., 0., 0., 0., 0., 0., 0., 0., 0., 0., 0., 1., 1., 0., 0., 1., 0.,\n",
            "        0., 0., 0., 0., 0., 0., 0., 0., 1., 0., 1., 0., 0., 0., 0., 0., 0., 0.,\n",
            "        0., 0., 0., 1., 0., 1., 0., 0., 0., 0., 0., 0., 0., 0., 0., 0., 0., 1.,\n",
            "        0., 0., 0., 0., 0., 0., 0., 0., 1., 0., 1., 0., 0., 0., 0., 0., 0., 0.,\n",
            "        0., 0., 0., 1., 0., 0., 0., 0., 1., 0., 0., 0., 0., 1., 0., 0., 0., 0.,\n",
            "        0., 0., 0., 0., 0., 0., 0., 0., 0., 0., 0., 0., 0., 0., 0., 0., 0., 0.,\n",
            "        1., 0., 0., 0., 0., 0., 0., 0., 1., 0., 0., 0., 1., 0., 1., 0., 0., 0.,\n",
            "        0., 0., 0., 0., 0., 0., 1., 0., 0., 0., 0., 0., 0., 1., 1., 0., 0., 0.,\n",
            "        0., 0., 0., 0., 0., 0., 0., 0., 0., 0., 0., 0., 0., 0., 0., 0., 0., 0.,\n",
            "        0., 0., 0., 0., 0., 0., 0., 0., 1., 0., 0., 0., 0., 0., 0., 0., 0., 0.,\n",
            "        0., 0., 0., 0., 1., 0., 0., 0., 0., 0., 0., 1., 0., 0., 0., 0., 0., 0.,\n",
            "        0., 0., 0., 0., 0., 0., 0., 0., 0., 0., 0., 0., 1., 1., 0., 1., 0., 0.,\n",
            "        0., 0., 1., 0., 0., 1., 0., 0., 0., 0., 0., 0., 0., 0., 0., 0., 0., 0.,\n",
            "        0., 0., 0., 0., 0., 0., 0., 1., 0., 1., 0., 0., 0., 0., 0., 0., 0., 0.,\n",
            "        0., 1., 0., 0., 1., 1., 0., 0., 0., 0., 0., 1., 1., 1., 0., 0., 0., 0.,\n",
            "        0., 0., 0., 1., 0., 0., 0., 0., 1., 0.])\n"
          ]
        },
        {
          "data": {
            "text/plain": [
              "tensor(0.1340)"
            ]
          },
          "execution_count": 182,
          "metadata": {},
          "output_type": "execute_result"
        }
      ],
      "source": [
        "fbeta_1(p, lbls)"
      ]
    },
    {
      "cell_type": "code",
      "execution_count": 163,
      "metadata": {
        "scrolled": true,
        "pycharm": {}
      },
      "outputs": [
        {
          "data": {
            "text/html": [],
            "text/plain": [
              "\u003cIPython.core.display.HTML object\u003e"
            ]
          },
          "metadata": {},
          "output_type": "display_data"
        },
        {
          "name": "stdout",
          "output_type": "stream",
          "text": [
            "LR Finder is complete, type {learner_name}.recorder.plot() to see the graph.\n"
          ]
        },
        {
          "data": {
            "image/png": "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\u003d\u003d\n",
            "text/plain": [
              "\u003cFigure size 432x288 with 1 Axes\u003e"
            ]
          },
          "metadata": {
            "needs_background": "light"
          },
          "output_type": "display_data"
        }
      ],
      "source": [
        "learn.lr_find();learn.recorder.plot()"
      ]
    },
    {
      "cell_type": "code",
      "execution_count": 164,
      "metadata": {
        "pycharm": {}
      },
      "outputs": [
        {
          "data": {
            "text/html": [
              "Total time: 00:43 \u003cp\u003e\u003ctable border\u003d\"1\" class\u003d\"dataframe\"\u003e\n",
              "  \u003cthead\u003e\n",
              "    \u003ctr style\u003d\"text-align: left;\"\u003e\n",
              "      \u003cth\u003eepoch\u003c/th\u003e\n",
              "      \u003cth\u003etrain_loss\u003c/th\u003e\n",
              "      \u003cth\u003evalid_loss\u003c/th\u003e\n",
              "      \u003cth\u003eaccuracy\u003c/th\u003e\n",
              "      \u003cth\u003ef_beta\u003c/th\u003e\n",
              "      \u003cth\u003etime\u003c/th\u003e\n",
              "    \u003c/tr\u003e\n",
              "  \u003c/thead\u003e\n",
              "  \u003ctbody\u003e\n",
              "    \u003ctr\u003e\n",
              "      \u003ctd\u003e0\u003c/td\u003e\n",
              "      \u003ctd\u003e0.294594\u003c/td\u003e\n",
              "      \u003ctd\u003e0.601908\u003c/td\u003e\n",
              "      \u003ctd\u003e0.860000\u003c/td\u003e\n",
              "      \u003ctd\u003e0.396552\u003c/td\u003e\n",
              "      \u003ctd\u003e00:08\u003c/td\u003e\n",
              "    \u003c/tr\u003e\n",
              "    \u003ctr\u003e\n",
              "      \u003ctd\u003e1\u003c/td\u003e\n",
              "      \u003ctd\u003e0.307323\u003c/td\u003e\n",
              "      \u003ctd\u003e0.590900\u003c/td\u003e\n",
              "      \u003ctd\u003e0.861000\u003c/td\u003e\n",
              "      \u003ctd\u003e0.408511\u003c/td\u003e\n",
              "      \u003ctd\u003e00:08\u003c/td\u003e\n",
              "    \u003c/tr\u003e\n",
              "    \u003ctr\u003e\n",
              "      \u003ctd\u003e2\u003c/td\u003e\n",
              "      \u003ctd\u003e0.296017\u003c/td\u003e\n",
              "      \u003ctd\u003e0.578898\u003c/td\u003e\n",
              "      \u003ctd\u003e0.863000\u003c/td\u003e\n",
              "      \u003ctd\u003e0.421941\u003c/td\u003e\n",
              "      \u003ctd\u003e00:08\u003c/td\u003e\n",
              "    \u003c/tr\u003e\n",
              "    \u003ctr\u003e\n",
              "      \u003ctd\u003e3\u003c/td\u003e\n",
              "      \u003ctd\u003e0.304085\u003c/td\u003e\n",
              "      \u003ctd\u003e0.595933\u003c/td\u003e\n",
              "      \u003ctd\u003e0.862000\u003c/td\u003e\n",
              "      \u003ctd\u003e0.410256\u003c/td\u003e\n",
              "      \u003ctd\u003e00:08\u003c/td\u003e\n",
              "    \u003c/tr\u003e\n",
              "    \u003ctr\u003e\n",
              "      \u003ctd\u003e4\u003c/td\u003e\n",
              "      \u003ctd\u003e0.291582\u003c/td\u003e\n",
              "      \u003ctd\u003e0.596006\u003c/td\u003e\n",
              "      \u003ctd\u003e0.862000\u003c/td\u003e\n",
              "      \u003ctd\u003e0.410256\u003c/td\u003e\n",
              "      \u003ctd\u003e00:08\u003c/td\u003e\n",
              "    \u003c/tr\u003e\n",
              "  \u003c/tbody\u003e\n",
              "\u003c/table\u003e"
            ],
            "text/plain": [
              "\u003cIPython.core.display.HTML object\u003e"
            ]
          },
          "metadata": {},
          "output_type": "display_data"
        }
      ],
      "source": [
        "learn.fit_one_cycle(5, 8e-5)"
      ]
    },
    {
      "cell_type": "code",
      "execution_count": 288,
      "metadata": {
        "pycharm": {}
      },
      "outputs": [
        {
          "data": {
            "image/png": "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\u003d\n",
            "text/plain": [
              "\u003cFigure size 432x288 with 1 Axes\u003e"
            ]
          },
          "metadata": {
            "needs_background": "light"
          },
          "output_type": "display_data"
        }
      ],
      "source": [
        "learn.recorder.plot_lr()"
      ]
    },
    {
      "cell_type": "code",
      "execution_count": null,
      "metadata": {
        "pycharm": {}
      },
      "outputs": [],
      "source": []
    },
    {
      "cell_type": "code",
      "execution_count": 164,
      "metadata": {
        "pycharm": {}
      },
      "outputs": [],
      "source": [
        "interp \u003d ClassificationInterpretation.from_learner(learn)\n"
      ]
    },
    {
      "cell_type": "code",
      "execution_count": 165,
      "metadata": {
        "pycharm": {}
      },
      "outputs": [
        {
          "ename": "RuntimeError",
          "evalue": "Expected object of scalar type Float but got scalar type Long for argument #2 \u0027other\u0027",
          "output_type": "error",
          "traceback": [
            "\u001b[0;31m---------------------------------------------------------------------------\u001b[0m",
            "\u001b[0;31mRuntimeError\u001b[0m                              Traceback (most recent call last)",
            "\u001b[0;32m\u003cipython-input-165-ab4f144f3c10\u003e\u001b[0m in \u001b[0;36m\u003cmodule\u003e\u001b[0;34m\u001b[0m\n\u001b[0;32m----\u003e 1\u001b[0;31m \u001b[0minterp\u001b[0m\u001b[0;34m.\u001b[0m\u001b[0mplot_confusion_matrix\u001b[0m\u001b[0;34m(\u001b[0m\u001b[0;34m)\u001b[0m\u001b[0;34m\u001b[0m\u001b[0;34m\u001b[0m\u001b[0m\n\u001b[0m",
            "\u001b[0;32m~/anaconda3/envs/laser/lib/python3.6/site-packages/fastai/train.py\u001b[0m in \u001b[0;36mplot_confusion_matrix\u001b[0;34m(self, normalize, title, cmap, slice_size, norm_dec, plot_txt, return_fig, **kwargs)\u001b[0m\n\u001b[1;32m    162\u001b[0m         \u001b[0;34m\"Plot the confusion matrix, with `title` and using `cmap`.\"\u001b[0m\u001b[0;34m\u001b[0m\u001b[0;34m\u001b[0m\u001b[0m\n\u001b[1;32m    163\u001b[0m         \u001b[0;31m# This function is mainly copied from the sklearn docs\u001b[0m\u001b[0;34m\u001b[0m\u001b[0;34m\u001b[0m\u001b[0;34m\u001b[0m\u001b[0m\n\u001b[0;32m--\u003e 164\u001b[0;31m         \u001b[0mcm\u001b[0m \u001b[0;34m\u003d\u001b[0m \u001b[0mself\u001b[0m\u001b[0;34m.\u001b[0m\u001b[0mconfusion_matrix\u001b[0m\u001b[0;34m(\u001b[0m\u001b[0mslice_size\u001b[0m\u001b[0;34m\u003d\u001b[0m\u001b[0mslice_size\u001b[0m\u001b[0;34m)\u001b[0m\u001b[0;34m\u001b[0m\u001b[0;34m\u001b[0m\u001b[0m\n\u001b[0m\u001b[1;32m    165\u001b[0m         \u001b[0;32mif\u001b[0m \u001b[0mnormalize\u001b[0m\u001b[0;34m:\u001b[0m \u001b[0mcm\u001b[0m \u001b[0;34m\u003d\u001b[0m \u001b[0mcm\u001b[0m\u001b[0;34m.\u001b[0m\u001b[0mastype\u001b[0m\u001b[0;34m(\u001b[0m\u001b[0;34m\u0027float\u0027\u001b[0m\u001b[0;34m)\u001b[0m \u001b[0;34m/\u001b[0m \u001b[0mcm\u001b[0m\u001b[0;34m.\u001b[0m\u001b[0msum\u001b[0m\u001b[0;34m(\u001b[0m\u001b[0maxis\u001b[0m\u001b[0;34m\u003d\u001b[0m\u001b[0;36m1\u001b[0m\u001b[0;34m)\u001b[0m\u001b[0;34m[\u001b[0m\u001b[0;34m:\u001b[0m\u001b[0;34m,\u001b[0m \u001b[0mnp\u001b[0m\u001b[0;34m.\u001b[0m\u001b[0mnewaxis\u001b[0m\u001b[0;34m]\u001b[0m\u001b[0;34m\u001b[0m\u001b[0;34m\u001b[0m\u001b[0m\n\u001b[1;32m    166\u001b[0m         \u001b[0mfig\u001b[0m \u001b[0;34m\u003d\u001b[0m \u001b[0mplt\u001b[0m\u001b[0;34m.\u001b[0m\u001b[0mfigure\u001b[0m\u001b[0;34m(\u001b[0m\u001b[0;34m**\u001b[0m\u001b[0mkwargs\u001b[0m\u001b[0;34m)\u001b[0m\u001b[0;34m\u001b[0m\u001b[0;34m\u001b[0m\u001b[0m\n",
            "\u001b[0;32m~/anaconda3/envs/laser/lib/python3.6/site-packages/fastai/train.py\u001b[0m in \u001b[0;36mconfusion_matrix\u001b[0;34m(self, slice_size)\u001b[0m\n\u001b[1;32m    154\u001b[0m             \u001b[0;32mfor\u001b[0m \u001b[0mi\u001b[0m \u001b[0;32min\u001b[0m \u001b[0mrange\u001b[0m\u001b[0;34m(\u001b[0m\u001b[0;36m0\u001b[0m\u001b[0;34m,\u001b[0m \u001b[0mself\u001b[0m\u001b[0;34m.\u001b[0m\u001b[0my_true\u001b[0m\u001b[0;34m.\u001b[0m\u001b[0mshape\u001b[0m\u001b[0;34m[\u001b[0m\u001b[0;36m0\u001b[0m\u001b[0;34m]\u001b[0m\u001b[0;34m,\u001b[0m \u001b[0mslice_size\u001b[0m\u001b[0;34m)\u001b[0m\u001b[0;34m:\u001b[0m\u001b[0;34m\u001b[0m\u001b[0;34m\u001b[0m\u001b[0m\n\u001b[1;32m    155\u001b[0m                 cm_slice \u003d ((self.pred_class[i:i+slice_size]\u003d\u003dx[:,None])\n\u001b[0;32m--\u003e 156\u001b[0;31m                             \u0026 (self.y_true[i:i+slice_size]\u003d\u003dx[:,None,None])).sum(2)\n\u001b[0m\u001b[1;32m    157\u001b[0m                 \u001b[0mtorch\u001b[0m\u001b[0;34m.\u001b[0m\u001b[0madd\u001b[0m\u001b[0;34m(\u001b[0m\u001b[0mcm\u001b[0m\u001b[0;34m,\u001b[0m \u001b[0mcm_slice\u001b[0m\u001b[0;34m,\u001b[0m \u001b[0mout\u001b[0m\u001b[0;34m\u003d\u001b[0m\u001b[0mcm\u001b[0m\u001b[0;34m)\u001b[0m\u001b[0;34m\u001b[0m\u001b[0;34m\u001b[0m\u001b[0m\n\u001b[1;32m    158\u001b[0m         \u001b[0;32mreturn\u001b[0m \u001b[0mto_np\u001b[0m\u001b[0;34m(\u001b[0m\u001b[0mcm\u001b[0m\u001b[0;34m)\u001b[0m\u001b[0;34m\u001b[0m\u001b[0;34m\u001b[0m\u001b[0m\n",
            "\u001b[0;31mRuntimeError\u001b[0m: Expected object of scalar type Float but got scalar type Long for argument #2 \u0027other\u0027"
          ]
        }
      ],
      "source": [
        "interp.plot_confusion_matrix()"
      ]
    },
    {
      "cell_type": "code",
      "execution_count": 174,
      "metadata": {
        "pycharm": {}
      },
      "outputs": [
        {
          "ename": "TypeError",
          "evalue": "len() of a 0-d tensor",
          "output_type": "error",
          "traceback": [
            "\u001b[0;31m---------------------------------------------------------------------------\u001b[0m",
            "\u001b[0;31mTypeError\u001b[0m                                 Traceback (most recent call last)",
            "\u001b[0;32m\u003cipython-input-174-eec5bea2d7ec\u003e\u001b[0m in \u001b[0;36m\u003cmodule\u003e\u001b[0;34m\u001b[0m\n\u001b[0;32m----\u003e 1\u001b[0;31m \u001b[0ml\u001b[0m\u001b[0;34m,\u001b[0m \u001b[0mi\u001b[0m \u001b[0;34m\u003d\u001b[0m \u001b[0minterp\u001b[0m\u001b[0;34m.\u001b[0m\u001b[0mtop_losses\u001b[0m\u001b[0;34m(\u001b[0m\u001b[0;34m)\u001b[0m\u001b[0;34m\u001b[0m\u001b[0;34m\u001b[0m\u001b[0m\n\u001b[0m",
            "\u001b[0;32m~/anaconda3/envs/laser/lib/python3.6/site-packages/fastai/train.py\u001b[0m in \u001b[0;36mtop_losses\u001b[0;34m(self, k, largest)\u001b[0m\n\u001b[1;32m    193\u001b[0m     \u001b[0;32mdef\u001b[0m \u001b[0mtop_losses\u001b[0m\u001b[0;34m(\u001b[0m\u001b[0mself\u001b[0m\u001b[0;34m,\u001b[0m \u001b[0mk\u001b[0m\u001b[0;34m:\u001b[0m\u001b[0mint\u001b[0m\u001b[0;34m\u003d\u001b[0m\u001b[0;32mNone\u001b[0m\u001b[0;34m,\u001b[0m \u001b[0mlargest\u001b[0m\u001b[0;34m\u003d\u001b[0m\u001b[0;32mTrue\u001b[0m\u001b[0;34m)\u001b[0m\u001b[0;34m:\u001b[0m\u001b[0;34m\u001b[0m\u001b[0;34m\u001b[0m\u001b[0m\n\u001b[1;32m    194\u001b[0m         \u001b[0;34m\"`k` largest(/smallest) losses and indexes, defaulting to all losses (sorted by `largest`).\"\u001b[0m\u001b[0;34m\u001b[0m\u001b[0;34m\u001b[0m\u001b[0m\n\u001b[0;32m--\u003e 195\u001b[0;31m         \u001b[0;32mreturn\u001b[0m \u001b[0mself\u001b[0m\u001b[0;34m.\u001b[0m\u001b[0mlosses\u001b[0m\u001b[0;34m.\u001b[0m\u001b[0mtopk\u001b[0m\u001b[0;34m(\u001b[0m\u001b[0mifnone\u001b[0m\u001b[0;34m(\u001b[0m\u001b[0mk\u001b[0m\u001b[0;34m,\u001b[0m \u001b[0mlen\u001b[0m\u001b[0;34m(\u001b[0m\u001b[0mself\u001b[0m\u001b[0;34m.\u001b[0m\u001b[0mlosses\u001b[0m\u001b[0;34m)\u001b[0m\u001b[0;34m)\u001b[0m\u001b[0;34m,\u001b[0m \u001b[0mlargest\u001b[0m\u001b[0;34m\u003d\u001b[0m\u001b[0mlargest\u001b[0m\u001b[0;34m)\u001b[0m\u001b[0;34m\u001b[0m\u001b[0;34m\u001b[0m\u001b[0m\n\u001b[0m\u001b[1;32m    196\u001b[0m \u001b[0;34m\u001b[0m\u001b[0m\n\u001b[1;32m    197\u001b[0m \u001b[0;32mdef\u001b[0m \u001b[0m_learner_interpret\u001b[0m\u001b[0;34m(\u001b[0m\u001b[0mlearn\u001b[0m\u001b[0;34m:\u001b[0m\u001b[0mLearner\u001b[0m\u001b[0;34m,\u001b[0m \u001b[0mds_type\u001b[0m\u001b[0;34m:\u001b[0m\u001b[0mDatasetType\u001b[0m\u001b[0;34m\u003d\u001b[0m\u001b[0mDatasetType\u001b[0m\u001b[0;34m.\u001b[0m\u001b[0mValid\u001b[0m\u001b[0;34m)\u001b[0m\u001b[0;34m:\u001b[0m\u001b[0;34m\u001b[0m\u001b[0;34m\u001b[0m\u001b[0m\n",
            "\u001b[0;32m~/anaconda3/envs/laser/lib/python3.6/site-packages/torch/tensor.py\u001b[0m in \u001b[0;36m__len__\u001b[0;34m(self)\u001b[0m\n\u001b[1;32m    409\u001b[0m     \u001b[0;32mdef\u001b[0m \u001b[0m__len__\u001b[0m\u001b[0;34m(\u001b[0m\u001b[0mself\u001b[0m\u001b[0;34m)\u001b[0m\u001b[0;34m:\u001b[0m\u001b[0;34m\u001b[0m\u001b[0;34m\u001b[0m\u001b[0m\n\u001b[1;32m    410\u001b[0m         \u001b[0;32mif\u001b[0m \u001b[0mself\u001b[0m\u001b[0;34m.\u001b[0m\u001b[0mdim\u001b[0m\u001b[0;34m(\u001b[0m\u001b[0;34m)\u001b[0m \u001b[0;34m\u003d\u003d\u001b[0m \u001b[0;36m0\u001b[0m\u001b[0;34m:\u001b[0m\u001b[0;34m\u001b[0m\u001b[0;34m\u001b[0m\u001b[0m\n\u001b[0;32m--\u003e 411\u001b[0;31m             \u001b[0;32mraise\u001b[0m \u001b[0mTypeError\u001b[0m\u001b[0;34m(\u001b[0m\u001b[0;34m\"len() of a 0-d tensor\"\u001b[0m\u001b[0;34m)\u001b[0m\u001b[0;34m\u001b[0m\u001b[0;34m\u001b[0m\u001b[0m\n\u001b[0m\u001b[1;32m    412\u001b[0m         \u001b[0;32mreturn\u001b[0m \u001b[0mself\u001b[0m\u001b[0;34m.\u001b[0m\u001b[0mshape\u001b[0m\u001b[0;34m[\u001b[0m\u001b[0;36m0\u001b[0m\u001b[0;34m]\u001b[0m\u001b[0;34m\u001b[0m\u001b[0;34m\u001b[0m\u001b[0m\n\u001b[1;32m    413\u001b[0m \u001b[0;34m\u001b[0m\u001b[0m\n",
            "\u001b[0;31mTypeError\u001b[0m: len() of a 0-d tensor"
          ]
        }
      ],
      "source": [
        "l, i \u003d interp.top_losses()"
      ]
    },
    {
      "cell_type": "code",
      "execution_count": null,
      "metadata": {
        "pycharm": {}
      },
      "outputs": [],
      "source": []
    },
    {
      "cell_type": "code",
      "execution_count": 175,
      "metadata": {
        "scrolled": false,
        "pycharm": {}
      },
      "outputs": [
        {
          "data": {
            "text/plain": [
              "[(1, 0, 86), (0, 1, 52)]"
            ]
          },
          "execution_count": 175,
          "metadata": {},
          "output_type": "execute_result"
        }
      ],
      "source": [
        "interp.most_confused()"
      ]
    },
    {
      "cell_type": "code",
      "execution_count": 169,
      "metadata": {
        "pycharm": {}
      },
      "outputs": [
        {
          "ename": "NameError",
          "evalue": "name \u0027i\u0027 is not defined",
          "output_type": "error",
          "traceback": [
            "\u001b[0;31m---------------------------------------------------------------------------\u001b[0m",
            "\u001b[0;31mNameError\u001b[0m                                 Traceback (most recent call last)",
            "\u001b[0;32m\u003cipython-input-169-88d0e67a5958\u003e\u001b[0m in \u001b[0;36m\u003cmodule\u003e\u001b[0;34m\u001b[0m\n\u001b[0;32m----\u003e 1\u001b[0;31m \u001b[0;32mfor\u001b[0m \u001b[0mix\u001b[0m \u001b[0;32min\u001b[0m \u001b[0mrange\u001b[0m\u001b[0;34m(\u001b[0m\u001b[0;36m0\u001b[0m\u001b[0;34m,\u001b[0m\u001b[0;36m10\u001b[0m\u001b[0;34m)\u001b[0m\u001b[0;34m:\u001b[0m \u001b[0mprint\u001b[0m\u001b[0;34m(\u001b[0m\u001b[0mdata\u001b[0m\u001b[0;34m.\u001b[0m\u001b[0mvalid_ds\u001b[0m\u001b[0;34m[\u001b[0m\u001b[0mi\u001b[0m\u001b[0;34m[\u001b[0m\u001b[0mix\u001b[0m\u001b[0;34m]\u001b[0m\u001b[0;34m]\u001b[0m\u001b[0;34m)\u001b[0m\u001b[0;34m\u001b[0m\u001b[0;34m\u001b[0m\u001b[0m\n\u001b[0m",
            "\u001b[0;31mNameError\u001b[0m: name \u0027i\u0027 is not defined"
          ]
        }
      ],
      "source": [
        "for ix in range(0,10): print(data.valid_ds[i[ix]])"
      ]
    },
    {
      "cell_type": "code",
      "execution_count": 295,
      "metadata": {
        "pycharm": {}
      },
      "outputs": [
        {
          "name": "stdout",
          "output_type": "stream",
          "text": [
            "(EmbeddingText account wie@@ czna zdra@@ da , nie zdra@@ da , trzeba roz@@ mawi@@ ać , pier@@ dol@@ enie od rzeczy, Category 0)\n",
            "(EmbeddingText account account to pani kry@@ sia jest two@@ ją oj@@ czy@@ zn@@ ą ?, Category 0)\n",
            "(EmbeddingText account droga p.@@ kam@@ il@@ ko ! le@@ czyć się . le@@ czyć pó@@ ki czas 😁 😁, Category 0)\n",
            "(EmbeddingText account du@@ baj w@@ zor@@ em , czy@@ li jednak islam , sal@@ am al@@ ej@@ kum ci@@ em@@ ki@@ e@@ wi@@ cz, Category 0)\n",
            "(EmbeddingText account a ja za@@ łoż@@ ę fit@@ blo@@ ga 😂 😂 😂, Category 0)\n",
            "(EmbeddingText account to tak jak ja prze@@ widział@@ em , że cię nie w@@ pusz@@ cza do g@@ b, Category 0)\n",
            "(EmbeddingText prowad@@ zą@@ cy mówi ze nikt mu nie wy@@ s@@ ła@@ ł sz@@ ki@@ ców projekt@@ ów jak nie jak ja ci wy@@ sł@@ ałam im@@ be@@ cy@@ lu, Category 0)\n",
            "(EmbeddingText ra@@ fa@@ ł br@@ zo@@ zo@@ w@@ ski ma nar@@ ze@@ cz@@ on@@ ą ? mam na@@ dzie@@ je m , że na co@@ dzień jej aż tak nie fa@@ ł@@ sz@@ uje jak w tym kol@@ e fortun@@ y a jeśli tak to big ri@@ p girl, Category 0)\n",
            "(EmbeddingText account account to ta pani co ma roz@@ tro@@ jen@@ ie ja@@ ź@@ ni ?, Category 0)\n",
            "(EmbeddingText account account account prawda o kar@@ cze@@ w@@ skim to nie prawda o pol@@ s@@ ce . coś się panu po@@ je@@ ba@@ ło account ., Category 0)\n",
            "(EmbeddingText account zna@@ jąc ment@@ al@@ ność pis win@@ ny będzie ten kto wi@@ dzi nie ten kto czy@@ ni ., Category 0)\n",
            "(EmbeddingText account prz@@ esta@@ ń@@ cie kur@@ wa cały czas p@@ ła@@ kać, Category 0)\n",
            "(EmbeddingText account account ko@@ do@@ wa zar@@ aza nar@@ ód nasz dzi@@ eli , m@@ roz@@ ny de@@ sz@@ cz gro@@ zy po kar@@ ku prze@@ chodzi , \\ ndo@@ ść dy@@ kt@@ atu pej@@ sat@@ ej bru@@ k@@ sel@@ i, Category 0)\n",
            "(EmbeddingText rt account account ku@@ ter ry@@ bac@@ ki przy niej , to dou@@ glas na wod@@ zie ., Category 0)\n",
            "(EmbeddingText account i we@@ ź tu zosta@@ ń p@@ sem, Category 0)\n",
            "(EmbeddingText account ty naj@@ pier@@ w prze@@ czy@@ taj te swoje ksi@@ ąż@@ ki z foto@@ ta@@ pet@@ y a potem po@@ gad@@ amy ., Category 0)\n",
            "(EmbeddingText trzeba być patri@@ ot@@ ą swo@@ jego mi@@ asta , swo@@ jego region@@ u , swo@@ jej ziemi . pre@@ zes # pis j. # ka@@ czy@@ ń@@ ski w # zam@@ o@@ ść : # do@@ trzy@@ mu@@ jem@@ ys@@ ło@@ wa, Category 0)\n",
            "(EmbeddingText rt account trzeba być patri@@ ot@@ ą swo@@ jego mi@@ asta , swo@@ jego region@@ u , swo@@ jej ziemi . pre@@ zes # pis j. # ka@@ czy@@ ń@@ ski w # zam@@ o@@ ść : # do@@ trzy@@ mu@@ jem@@ ys@@ ło@@ wa, Category 0)\n",
            "(EmbeddingText account taki z niego patri@@ ota jak z ciebie dzi@@ enni@@ kar@@ z . nie po@@ gr@@ ąż@@ aj się ., Category 0)\n",
            "(EmbeddingText rt account account taki z niego patri@@ ota jak z ciebie dzi@@ enni@@ kar@@ z . nie po@@ gr@@ ąż@@ aj się ., Category 0)\n",
            "(EmbeddingText account account zanim się o@@ dez@@ wiesz to wy@@ trze@@ ź@@ wi@@ ej, Category 0)\n",
            "(EmbeddingText account bier@@ z tego account razem jeste@@ ście moc@@ ni, Category 0)\n",
            "(EmbeddingText account a br@@ am@@ kar@@ ze ? gli@@ k ? kry@@ cho@@ wi@@ ak ? ku@@ ba ? mili@@ k ? pis@@ z@@ cz@@ ek jak jest zdro@@ wy ?, Category 0)\n",
            "(EmbeddingText kur@@ wa wszyscy w domu ka@@ sz@@ l@@ ą, Category 0)\n",
            "(EmbeddingText account account account je@@ ba@@ ć sł@@ oni@@ c@@ ę@@ - mo@@ ty@@ li@@ cę ! ! ! ! 😁 😁 😁 . wro@@ c@@ ła@@ w nie daj się ! ! !, Category 0)\n",
            "(EmbeddingText account jeśli to jest sz@@ rot to jak naz@@ wać was@@ ze transfer@@ y ?, Category 0)\n",
            "(EmbeddingText no teraz kur@@ wa jak muszę wyj@@ ść to pada@@ ć zac@@ zy@@ na no ja pier@@ dole do dup@@ y z ta@@ kim ży@@ ciem, Category 0)\n",
            "(EmbeddingText account account chyba ty , ch@@ ł@@ op jak by@@ k, Category 0)\n",
            "(EmbeddingText account ale tu@@ sk nie jest świ@@ rem, Category 0)\n",
            "(EmbeddingText account account account account ki@@ bi@@ ce wier@@ zą w zwy@@ ci@@ ę@@ stwo swo@@ jej dru@@ ży@@ ny@@ .@@ ty to nazy@@ was@@ z do@@ pis@@ y@@ wan@@ iem p@@ kt ? ha@@ ha, Category 0)\n",
            "(EmbeddingText account account account historia lu@@ dz@@ ko@@ ści to historia gł@@ upo@@ ty # ja@@ j@@ co, Category 0)\n",
            "(EmbeddingText account ten to już zu@@ peł@@ nie od@@ wi@@ esi@@ ł mó@@ z@@ g na ko@@ ł@@ ek , chor@@ y mó@@ z@@ g, Category 0)\n",
            "(EmbeddingText account rzu@@ ć ż@@ on@@ ę , przej@@ dź na bud@@ dy@@ z@@ m , prze@@ prowad@@ ź sie z u@@ kochan@@ ą na bar@@ ba@@ dos , zac@@ zni@@ j s@@ sa@@ ć życie, Category 0)\n",
            "(EmbeddingText h@@ ali@@ c@@ ki : ga@@ w@@ ło@@ w@@ ski nie może się br@@ oni@@ ć bo sied@@ zi . a po wciąż za ba@@ ł@@ ag@@ an w w-@@ wie ob@@ cią@@ ż@@ a m@@ .@@ i. nie@@ ży@@ ją@@ cego l.@@ ka@@ czy@@ ń@@ skiego \\ n # wor@@ oni@@ cza@@ 17, Category 0)\n",
            "(EmbeddingText pis już się z@@ bliż@@ a już pu@@ ka do t@@ wych dr@@ z@@ wi@@ .@@ po@@ bieg@@ ni@@ j go przy@@ wit@@ ać z ra@@ do@@ ści ser@@ ce dr@@ ży . 😁 😁 😁, Category 0)\n",
            "(EmbeddingText account pola@@ cy rat@@ uj@@ my pol@@ sk@@ Ę od zlo@@ dzie@@ ji po i lisa wol@@ j@@ s@@ do@@ j@@ cza, Category 0)\n",
            "(EmbeddingText rt account account pola@@ cy rat@@ uj@@ my pol@@ sk@@ Ę od zlo@@ dzie@@ ji po i lisa wol@@ j@@ s@@ do@@ j@@ cza, Category 0)\n",
            "(EmbeddingText account panie reda@@ ktor@@ ze , proszę u@@ ca@@ ło@@ wać pana account wró@@ ć . poz@@ dro@@ wić ., Category 0)\n",
            "(EmbeddingText account ja się wiele cie@@ ka@@ wych rzeczy do@@ wiedzi@@ ałem n@@ p że ry@@ cz@@ kow@@ ski to 87 ro@@ cz@@ nik@@ .@@ spraw@@ dzić tekst przed dru@@ kiem to chyba za tru@@ dne ., Category 0)\n",
            "(EmbeddingText account o in@@ wek@@ ty@@ wach proszę poroz@@ mawi@@ ać ze swo@@ im prez@@ es@@ em a nie pie@@ przy@@ ć mi tutaj o jak@@ ich@@ ś przy@@ kł@@ ada@@ ch ., Category 0)\n",
            "(EmbeddingText daj@@ cie fa@@ v a ja wam jutro zrobi@@ ę gad@@ an@@ ego in@@ da pier@@ wsz@@ ego w ży@@ ciu !, Category 0)\n",
            "(EmbeddingText wiek to ok@@ rop@@ ny z@@ łod@@ zi@@ ej@@ . kiedy zac@@ zy@@ nasz rozu@@ mieć , na czym po@@ lega życie , ono ś@@ cina cię z nó@@ g i przy@@ gar@@ bia ci ple@@ cy ., Category 0)\n",
            "(EmbeddingText rt account wiek to ok@@ rop@@ ny z@@ łod@@ zi@@ ej@@ . kiedy zac@@ zy@@ nasz rozu@@ mieć , na czym po@@ lega życie , ono ś@@ cina cię z nó@@ g i przy@@ gar@@ bia ci ple@@ cy ., Category 0)\n",
            "(EmbeddingText account account mo@@ wa była o fak@@ ta@@ ch a nie two@@ ich od@@ czu@@ ci@@ ach czy go uważ@@ asz za po@@ laka czy nie account, Category 0)\n",
            "(EmbeddingText account ale ja uci@@ ek@@ nę tam gdzie pie@@ pr@@ z ro@@ śnie, Category 0)\n"
          ]
        }
      ],
      "source": [
        "neutral_as_offensive \u003d np.nonzero((interp.pred_class !\u003d interp.y_true) \u0026 (interp.y_true \u003d\u003d 0)).reshape(-1)\n",
        "for ix in neutral_as_offensive: print(data.valid_ds[ix])"
      ]
    },
    {
      "cell_type": "code",
      "execution_count": null,
      "metadata": {
        "pycharm": {}
      },
      "outputs": [],
      "source": []
    }
  ],
  "metadata": {
    "kernelspec": {
      "name": "pycharm-9ea8f68f",
      "language": "python",
      "display_name": "PyCharm (ulmfit-multilingual)"
    },
    "language_info": {
      "codemirror_mode": {
        "name": "ipython",
        "version": 3
      },
      "file_extension": ".py",
      "mimetype": "text/x-python",
      "name": "python",
      "nbconvert_exporter": "python",
      "pygments_lexer": "ipython3",
      "version": "3.6.8"
    }
  },
  "nbformat": 4,
  "nbformat_minor": 2
}